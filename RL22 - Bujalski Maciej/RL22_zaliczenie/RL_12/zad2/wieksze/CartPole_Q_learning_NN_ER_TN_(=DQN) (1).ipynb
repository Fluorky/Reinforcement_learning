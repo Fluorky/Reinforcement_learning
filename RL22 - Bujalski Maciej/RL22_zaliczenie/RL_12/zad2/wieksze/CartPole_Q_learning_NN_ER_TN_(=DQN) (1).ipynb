{
  "nbformat": 4,
  "nbformat_minor": 0,
  "metadata": {
    "kernelspec": {
      "name": "python3",
      "display_name": "Python 3"
    },
    "colab": {
      "name": "CartPole_Q_learning_NN_ER_TN_(=DQN).ipynb",
      "provenance": [],
      "collapsed_sections": []
    },
    "language_info": {
      "name": "python"
    }
  },
  "cells": [
    {
      "cell_type": "code",
      "metadata": {
        "id": "k-pFtTFuJghj"
      },
      "source": [
        "import numpy as np\n",
        "import gym\n",
        "import matplotlib.pyplot as plt\n",
        "import tensorflow as tf"
      ],
      "execution_count": 21,
      "outputs": []
    },
    {
      "cell_type": "code",
      "metadata": {
        "id": "IJhJTrSJJghv",
        "colab": {
          "base_uri": "https://localhost:8080/",
          "height": 0
        },
        "outputId": "998e068a-07b1-421d-e6ee-9ce4e26b7425"
      },
      "source": [
        "env = gym.make(\"CartPole-v1\")\n",
        "state = env.reset()\n",
        "state\n",
        "# position, velocity, angle, angular velocity"
      ],
      "execution_count": 2,
      "outputs": [
        {
          "output_type": "execute_result",
          "data": {
            "text/plain": [
              "array([ 0.01174233, -0.02763735,  0.02245947, -0.04262478])"
            ]
          },
          "metadata": {},
          "execution_count": 2
        }
      ]
    },
    {
      "cell_type": "code",
      "metadata": {
        "id": "F9faPBatSRho"
      },
      "source": [
        "import keras\n",
        "from keras.models import Sequential\n",
        "from keras.layers import Dense\n",
        "from collections import deque\n",
        "import random"
      ],
      "execution_count": 3,
      "outputs": []
    },
    {
      "cell_type": "code",
      "metadata": {
        "id": "u_4W8urdSVMb"
      },
      "source": [
        "model = Sequential()\n",
        "model.add(Dense(units = 50, input_dim=4, activation='relu'))\n",
        "model.add(Dense(units = 50, activation = \"relu\"))\n",
        "model.add(Dense(units = 2, activation = \"linear\"))"
      ],
      "execution_count": 4,
      "outputs": []
    },
    {
      "cell_type": "code",
      "metadata": {
        "colab": {
          "base_uri": "https://localhost:8080/",
          "height": 0
        },
        "id": "xWHAwVnCS_lp",
        "outputId": "1c01d962-90d8-4d4c-be9c-6f547654aac4"
      },
      "source": [
        "#opt = keras.optimizers.Adam(learning_rate=0.001)#bad\n",
        "opt = tf.keras.optimizers.Adam(learning_rate=0.001)\n",
        "#opt = keras.optimizers.SGD(learning_rate=0.001)\n",
        "\n",
        "model.compile(loss='MSE',optimizer=opt)\n",
        "model.summary()"
      ],
      "execution_count": 9,
      "outputs": [
        {
          "output_type": "stream",
          "name": "stdout",
          "text": [
            "Model: \"sequential\"\n",
            "_________________________________________________________________\n",
            " Layer (type)                Output Shape              Param #   \n",
            "=================================================================\n",
            " dense (Dense)               (None, 50)                250       \n",
            "                                                                 \n",
            " dense_1 (Dense)             (None, 50)                2550      \n",
            "                                                                 \n",
            " dense_2 (Dense)             (None, 2)                 102       \n",
            "                                                                 \n",
            "=================================================================\n",
            "Total params: 2,902\n",
            "Trainable params: 2,902\n",
            "Non-trainable params: 0\n",
            "_________________________________________________________________\n"
          ]
        }
      ]
    },
    {
      "cell_type": "markdown",
      "metadata": {
        "id": "-NfaQqQPa_in"
      },
      "source": [
        "Parametry:"
      ]
    },
    {
      "cell_type": "code",
      "metadata": {
        "id": "8YNmTeJ1a8gf"
      },
      "source": [
        "train_episodes = 10\n",
        "epsilon = 0.3\n",
        "gamma = 0.99\n",
        "max_steps = 200"
      ],
      "execution_count": 10,
      "outputs": []
    },
    {
      "cell_type": "markdown",
      "metadata": {
        "id": "dBSCq45to9xj"
      },
      "source": [
        "Tworzymy **sieć docelową** (ang. target network):"
      ]
    },
    {
      "cell_type": "code",
      "metadata": {
        "id": "OUOZBKKipLad"
      },
      "source": [
        "target_model = tf.keras.models.clone_model(model)"
      ],
      "execution_count": 11,
      "outputs": []
    },
    {
      "cell_type": "markdown",
      "metadata": {
        "id": "dfT8UoDfpf--"
      },
      "source": [
        "Ustalamy jak często sieć ma być **synchronizowana**:"
      ]
    },
    {
      "cell_type": "code",
      "metadata": {
        "id": "R0ab_-4ZpoGh"
      },
      "source": [
        "sync_freq = 50"
      ],
      "execution_count": 28,
      "outputs": []
    },
    {
      "cell_type": "markdown",
      "metadata": {
        "id": "sdRM0ruGZ9aS"
      },
      "source": [
        "Definiujemy **pamięć** jako kolejkę:"
      ]
    },
    {
      "cell_type": "code",
      "metadata": {
        "id": "svOG41qEaCXU"
      },
      "source": [
        "memory = deque(maxlen=100)"
      ],
      "execution_count": 13,
      "outputs": []
    },
    {
      "cell_type": "markdown",
      "metadata": {
        "id": "fSTu3hjeaQyh"
      },
      "source": [
        "Ustalamy rozmiar **batch**:"
      ]
    },
    {
      "cell_type": "code",
      "metadata": {
        "id": "fua1_owOaYPp"
      },
      "source": [
        "batch_size = 10"
      ],
      "execution_count": 14,
      "outputs": []
    },
    {
      "cell_type": "markdown",
      "source": [
        "Funkcja odpowiedzialna za **trenowanie modelu**:"
      ],
      "metadata": {
        "id": "ZOT2yT5cwQo4"
      }
    },
    {
      "cell_type": "code",
      "metadata": {
        "id": "cDbqZ3RhjqlD"
      },
      "source": [
        "def train():\n",
        "  state_batch, Qs_target_batch = [], []\n",
        "  \n",
        "  minibatch = random.sample(memory, batch_size)\n",
        "      \n",
        "  for state, action, reward, next_state, done in minibatch:\n",
        "\n",
        "    if done:\n",
        "      y = reward\n",
        "    else:\n",
        "      #UWAGA!!!!\n",
        "      #----------------------------------------------\n",
        "      #wyliczając max Q korzystamy z 'target network' \n",
        "      y = reward + gamma*np.max(target_model.predict(next_state)[0])\n",
        "\n",
        "    Q_target = model.predict(state)\n",
        "    Q_target[0][action] = y\n",
        "          \n",
        "    state_batch.append(state)\n",
        "    Qs_target_batch.append(Q_target)      \n",
        "  \n",
        "  state_batch = np.array(state_batch).reshape(batch_size,4)\n",
        "  Qs_target_batch = np.array(Qs_target_batch).reshape(batch_size,2)\n",
        "\n",
        "  h = model.fit(state_batch,Qs_target_batch,epochs=1,verbose=0)\n",
        "\n",
        "  loss = h.history['loss'][0]\n",
        "\n",
        "  return loss"
      ],
      "execution_count": 29,
      "outputs": []
    },
    {
      "cell_type": "code",
      "metadata": {
        "colab": {
          "base_uri": "https://localhost:8080/"
        },
        "id": "EYJkd587bK_X",
        "outputId": "9bb0e2aa-c00e-405f-dd08-3e803a516b03"
      },
      "source": [
        "Loss = []\n",
        "Rewards = []\n",
        "\n",
        "#zmienna do zliczania kroków w epizodach\n",
        "j = 0\n",
        "for e in range(1, train_episodes+1):\n",
        "  total_reward = 0\n",
        "  t = 0\n",
        "\n",
        "  state = env.reset()\n",
        "  state = np.reshape(state, [1, 4])  \n",
        "  \n",
        "  done = False\n",
        "  while t < max_steps and done == False:\n",
        "    #!!!!!\n",
        "    j=j+1\n",
        "    Qs = model.predict(state)[0]\n",
        "\n",
        "    if np.random.rand()<epsilon:\n",
        "      action = env.action_space.sample()\n",
        "    else:\n",
        "      action = np.argmax(Qs)\n",
        "    \n",
        "    next_state, reward, done, _ = env.step(action)\n",
        "    next_state = np.reshape(next_state, [1, 4])\n",
        "    \n",
        "    total_reward += reward\n",
        "\n",
        "    memory.append((state,action,reward,next_state,done))\n",
        "\n",
        "    if batch_size < len(memory):\n",
        "      loss = train()\n",
        "      Loss.append(loss)\n",
        "\n",
        "    state = next_state\n",
        "    t+=1\n",
        "\n",
        "    #synchronizacja 'target network'\n",
        "    if j%sync_freq==0:\n",
        "      #w = self.model.get_weights()\n",
        "      w = model.get_weights()\n",
        "      target_model.set_weights(w)\n",
        "  \n",
        "  print(e,\" R=\",total_reward)\n",
        "  Rewards.append(total_reward)"
      ],
      "execution_count": 30,
      "outputs": [
        {
          "output_type": "stream",
          "name": "stdout",
          "text": [
            "1  R= 12.0\n",
            "2  R= 14.0\n",
            "3  R= 12.0\n",
            "4  R= 13.0\n",
            "5  R= 10.0\n",
            "6  R= 12.0\n",
            "7  R= 12.0\n",
            "8  R= 11.0\n",
            "9  R= 19.0\n",
            "10  R= 10.0\n"
          ]
        }
      ]
    },
    {
      "cell_type": "code",
      "metadata": {
        "id": "Ab9Wdb2nZz7a",
        "colab": {
          "base_uri": "https://localhost:8080/",
          "height": 295
        },
        "outputId": "f869aa3d-d900-49ed-b1bc-5e1b41260f9f"
      },
      "source": [
        "plt.subplot(211)\n",
        "plt.ylabel('rewards')  \n",
        "plt.title('Rewards per epoch')\n",
        "plt.plot(range(len(Rewards)),Rewards,\"b\")\n",
        "\n",
        "plt.subplot(212)\n",
        "plt.xlabel('epoch')\n",
        "plt.ylabel('loss')  \n",
        "plt.title('Loss per epoch')\n",
        "plt.plot(range(len(Loss)),Loss,\"r\")\n",
        "\n",
        "plt.show()"
      ],
      "execution_count": 31,
      "outputs": [
        {
          "output_type": "display_data",
          "data": {
            "text/plain": [
              "<Figure size 432x288 with 2 Axes>"
            ],
            "image/png": "[encoded data removed]"
          },
          "metadata": {
            "needs_background": "light"
          }
        }
      ]
    }
  ]
}