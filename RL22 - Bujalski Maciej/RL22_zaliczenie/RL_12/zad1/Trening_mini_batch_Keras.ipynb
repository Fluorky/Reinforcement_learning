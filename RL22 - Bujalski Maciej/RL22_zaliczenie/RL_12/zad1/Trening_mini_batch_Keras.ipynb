{
  "nbformat": 4,
  "nbformat_minor": 0,
  "metadata": {
    "colab": {
      "name": "Trening_mini_batch_Keras.ipynb",
      "provenance": [],
      "collapsed_sections": []
    },
    "kernelspec": {
      "name": "python3",
      "display_name": "Python 3"
    }
  },
  "cells": [
    {
      "cell_type": "code",
      "source": [
        "import matplotlib.pyplot as plt \n",
        "import numpy as np"
      ],
      "metadata": {
        "id": "xZJeKLrMCju2"
      },
      "execution_count": null,
      "outputs": []
    },
    {
      "cell_type": "markdown",
      "metadata": {
        "id": "0V5ADLAwqrBn"
      },
      "source": [
        "Wygenerujemy **zbiór danych** złożony z 1000 punktów."
      ]
    },
    {
      "cell_type": "code",
      "metadata": {
        "id": "ZVq1tf7bc7QR"
      },
      "source": [
        "number_of_points = 1000\n",
        "x_point = []\n",
        "y_point = []"
      ],
      "execution_count": null,
      "outputs": []
    },
    {
      "cell_type": "code",
      "metadata": {
        "id": "EWPeY5rhc7QR"
      },
      "source": [
        "a = 0.22\n",
        "b = 0.78"
      ],
      "execution_count": null,
      "outputs": []
    },
    {
      "cell_type": "code",
      "metadata": {
        "id": "7iH7M0Ksc7QS"
      },
      "source": [
        "for i in range(number_of_points):\n",
        "    x = np.random.normal(0.0,0.5)\n",
        "    y = (a*x+b)+np.random.normal(0.0,0.1)\n",
        "    x_point.append(x)\n",
        "    y_point.append(y)"
      ],
      "execution_count": null,
      "outputs": []
    },
    {
      "cell_type": "code",
      "metadata": {
        "colab": {
          "base_uri": "https://localhost:8080/",
          "height": 265
        },
        "id": "JaaxR7Fzc7QT",
        "outputId": "400891b9-065e-4d48-c33f-70d697da0f61"
      },
      "source": [
        "plt.scatter(x_point,y_point,c='b')\n",
        "plt.show()"
      ],
      "execution_count": null,
      "outputs": [
        {
          "output_type": "display_data",
          "data": {
            "text/plain": [
              "<Figure size 432x288 with 1 Axes>"
            ],
            "image/png": "[encoded data removed]"
          },
          "metadata": {
            "needs_background": "light"
          }
        }
      ]
    },
    {
      "cell_type": "code",
      "metadata": {
        "id": "mY2Q8EvOc7QU"
      },
      "source": [
        "real_x = np.array(x_point)\n",
        "real_y = np.array(y_point)"
      ],
      "execution_count": null,
      "outputs": []
    },
    {
      "cell_type": "code",
      "metadata": {
        "id": "Hn4rO7oXin3_"
      },
      "source": [
        "import keras\n",
        "from keras.models import Sequential\n",
        "from keras.layers import Dense\n",
        "import tensorflow as tf"
      ],
      "execution_count": null,
      "outputs": []
    },
    {
      "cell_type": "markdown",
      "metadata": {
        "id": "hI8qEUW3dE8U"
      },
      "source": [
        "Definiujemy model:"
      ]
    },
    {
      "cell_type": "code",
      "metadata": {
        "id": "RQ_JJ453buzg"
      },
      "source": [
        "model = Sequential()"
      ],
      "execution_count": null,
      "outputs": []
    },
    {
      "cell_type": "markdown",
      "metadata": {
        "id": "NGVRpbuJdLyJ"
      },
      "source": [
        "Dodajemy **jedną warstwę** (Dense) z **jednym neuronem** (units=1) z **biasem** (use_bias=True) i **liniową funkcją aktywacji** (activation=\"linear\"):"
      ]
    },
    {
      "cell_type": "code",
      "metadata": {
        "id": "1jlZOdW4dJid"
      },
      "source": [
        "model.add(Dense(units = 1, use_bias=True, input_dim=1, activation = \"linear\"))"
      ],
      "execution_count": null,
      "outputs": []
    },
    {
      "cell_type": "markdown",
      "metadata": {
        "id": "t-JY2rCMdRqw"
      },
      "source": [
        "Definiujemy **optymalizator** i **błąd** (średni błąd kwadratowy - MSE). **Współczynnik uczenia = 0.1**"
      ]
    },
    {
      "cell_type": "code",
      "metadata": {
        "id": "_fEydWn5erHN"
      },
      "source": [
        "opt = tf.keras.optimizers.Adam(learning_rate=0.1)"
      ],
      "execution_count": null,
      "outputs": []
    },
    {
      "cell_type": "markdown",
      "metadata": {
        "id": "3ueJaHIDrGgJ"
      },
      "source": [
        "Kompilacja modelu:"
      ]
    },
    {
      "cell_type": "code",
      "metadata": {
        "id": "YTBIDd5db9TB"
      },
      "source": [
        "model.compile(loss='MSE',optimizer=opt)"
      ],
      "execution_count": null,
      "outputs": []
    },
    {
      "cell_type": "markdown",
      "metadata": {
        "id": "iEbuoKKMrU79"
      },
      "source": [
        "Informacje o modelu:"
      ]
    },
    {
      "cell_type": "code",
      "metadata": {
        "colab": {
          "base_uri": "https://localhost:8080/"
        },
        "id": "uLKCHdbMrXzE",
        "outputId": "3c6a0b12-b55c-4df2-84f3-0a93ed759a2a"
      },
      "source": [
        "model.summary()"
      ],
      "execution_count": null,
      "outputs": [
        {
          "output_type": "stream",
          "name": "stdout",
          "text": [
            "Model: \"sequential_3\"\n",
            "_________________________________________________________________\n",
            " Layer (type)                Output Shape              Param #   \n",
            "=================================================================\n",
            " dense_3 (Dense)             (None, 1)                 2         \n",
            "                                                                 \n",
            "=================================================================\n",
            "Total params: 2\n",
            "Trainable params: 2\n",
            "Non-trainable params: 0\n",
            "_________________________________________________________________\n"
          ]
        }
      ]
    },
    {
      "cell_type": "markdown",
      "metadata": {
        "id": "maoTypyhrJ79"
      },
      "source": [
        "Ustalamy **liczbę epok** w czasie której **model będzie uczony**."
      ]
    },
    {
      "cell_type": "code",
      "metadata": {
        "id": "UgdgREOxqPZ-"
      },
      "source": [
        "number_epochs=100\n",
        "mini_batch=300"
      ],
      "execution_count": null,
      "outputs": []
    },
    {
      "cell_type": "markdown",
      "metadata": {
        "id": "lAisShP0dfFy"
      },
      "source": [
        "Proces uczenia: **mini_batch=n** oznacza, że w każdym przejściu pętli treningowej do modyfikacji wag wykorzystywanych jest **n punktów ze zbioru treningowego**. Oczywiście **1<=n<=1000** bo mamy 1000 punktów."
      ]
    },
    {
      "cell_type": "code",
      "metadata": {
        "id": "ZCFkWb3ycHsO"
      },
      "source": [
        "h = model.fit(real_x,real_y, verbose=0, epochs=number_epochs, batch_size=mini_batch)"
      ],
      "execution_count": null,
      "outputs": []
    },
    {
      "cell_type": "code",
      "metadata": {
        "id": "lLDWhB-0qBNc"
      },
      "source": [
        "Loss = h.history['loss']"
      ],
      "execution_count": null,
      "outputs": []
    },
    {
      "cell_type": "code",
      "metadata": {
        "colab": {
          "base_uri": "https://localhost:8080/",
          "height": 265
        },
        "id": "fsCASRYvqIic",
        "outputId": "07b848ad-b061-46a9-bec7-7cfcb9565bb5"
      },
      "source": [
        "plt.scatter(np.arange(number_epochs),Loss)\n",
        "plt.show()"
      ],
      "execution_count": null,
      "outputs": [
        {
          "output_type": "display_data",
          "data": {
            "text/plain": [
              "<Figure size 432x288 with 1 Axes>"
            ],
            "image/png": "[encoded data removed]"
          },
          "metadata": {
            "needs_background": "light"
          }
        }
      ]
    }
  ]
}