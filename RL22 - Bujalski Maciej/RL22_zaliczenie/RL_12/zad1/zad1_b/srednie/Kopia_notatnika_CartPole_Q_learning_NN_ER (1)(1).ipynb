{
  "cells": [
    {
      "cell_type": "code",
      "execution_count": 1,
      "metadata": {
        "id": "k-pFtTFuJghj"
      },
      "outputs": [],
      "source": [
        "import numpy as np\n",
        "import gym\n",
        "import matplotlib.pyplot as plt"
      ]
    },
    {
      "cell_type": "code",
      "execution_count": 2,
      "metadata": {
        "colab": {
          "base_uri": "https://localhost:8080/"
        },
        "id": "IJhJTrSJJghv",
        "outputId": "85d5eccc-663f-4bb7-ecce-65f56e297f9d"
      },
      "outputs": [
        {
          "output_type": "execute_result",
          "data": {
            "text/plain": [
              "array([ 0.00243197, -0.04045838,  0.03059702,  0.03196711])"
            ]
          },
          "metadata": {},
          "execution_count": 2
        }
      ],
      "source": [
        "env = gym.make(\"CartPole-v1\")\n",
        "state = env.reset()\n",
        "state\n",
        "# position, velocity, angle, angular velocity"
      ]
    },
    {
      "cell_type": "code",
      "execution_count": 3,
      "metadata": {
        "id": "F9faPBatSRho"
      },
      "outputs": [],
      "source": [
        "import keras\n",
        "from keras.models import Sequential\n",
        "from keras.layers import Dense\n",
        "from collections import deque\n",
        "import random\n",
        "import tensorflow as tf"
      ]
    },
    {
      "cell_type": "code",
      "execution_count": 4,
      "metadata": {
        "id": "u_4W8urdSVMb"
      },
      "outputs": [],
      "source": [
        "model = Sequential()\n",
        "model.add(Dense(units = 50, input_dim=4, activation='relu'))\n",
        "model.add(Dense(units = 50, activation = \"relu\"))\n",
        "model.add(Dense(units = 2, activation = \"linear\"))"
      ]
    },
    {
      "cell_type": "code",
      "execution_count": 5,
      "metadata": {
        "colab": {
          "base_uri": "https://localhost:8080/"
        },
        "id": "xWHAwVnCS_lp",
        "outputId": "a570f1fa-f63f-4d41-b552-3368986c4922"
      },
      "outputs": [
        {
          "output_type": "stream",
          "name": "stdout",
          "text": [
            "Model: \"sequential\"\n",
            "_________________________________________________________________\n",
            " Layer (type)                Output Shape              Param #   \n",
            "=================================================================\n",
            " dense (Dense)               (None, 50)                250       \n",
            "                                                                 \n",
            " dense_1 (Dense)             (None, 50)                2550      \n",
            "                                                                 \n",
            " dense_2 (Dense)             (None, 2)                 102       \n",
            "                                                                 \n",
            "=================================================================\n",
            "Total params: 2,902\n",
            "Trainable params: 2,902\n",
            "Non-trainable params: 0\n",
            "_________________________________________________________________\n"
          ]
        }
      ],
      "source": [
        "opt = tf.keras.optimizers.Adam(learning_rate=0.001)\n",
        "#opt = tf.keras.optimizers.SGD(learning_rate=0.001)\n",
        "\n",
        "model.compile(loss='MSE',optimizer=opt)\n",
        "model.summary()"
      ]
    },
    {
      "cell_type": "markdown",
      "metadata": {
        "id": "-NfaQqQPa_in"
      },
      "source": [
        "Parametry:"
      ]
    },
    {
      "cell_type": "code",
      "execution_count": 6,
      "metadata": {
        "id": "8YNmTeJ1a8gf"
      },
      "outputs": [],
      "source": [
        "train_episodes = 100\n",
        "epsilon = 0.16\n",
        "gamma = 0.99\n",
        "max_steps = 50"
      ]
    },
    {
      "cell_type": "markdown",
      "metadata": {
        "id": "sdRM0ruGZ9aS"
      },
      "source": [
        "Definiujemy **pamięć** jako kolejkę:"
      ]
    },
    {
      "cell_type": "code",
      "execution_count": 7,
      "metadata": {
        "id": "svOG41qEaCXU"
      },
      "outputs": [],
      "source": [
        "memory = deque(maxlen=100)"
      ]
    },
    {
      "cell_type": "markdown",
      "metadata": {
        "id": "fSTu3hjeaQyh"
      },
      "source": [
        "Ustalamy rozmiar **batch**:"
      ]
    },
    {
      "cell_type": "code",
      "execution_count": 8,
      "metadata": {
        "id": "fua1_owOaYPp"
      },
      "outputs": [],
      "source": [
        "batch_size = 10"
      ]
    },
    {
      "cell_type": "code",
      "execution_count": 9,
      "metadata": {
        "id": "cDbqZ3RhjqlD"
      },
      "outputs": [],
      "source": [
        "def train():\n",
        "  state_batch, Qs_target_batch = [], []\n",
        "  \n",
        "  minibatch = random.sample(memory, batch_size)\n",
        "      \n",
        "  for state, action, reward, next_state, done in minibatch:\n",
        "\n",
        "    if done:\n",
        "      y = reward\n",
        "    else:\n",
        "      y = reward + gamma*np.max(model.predict(next_state)[0])\n",
        "\n",
        "    Q_target = model.predict(state)\n",
        "    Q_target[0][action] = y\n",
        "          \n",
        "    state_batch.append(state)\n",
        "    Qs_target_batch.append(Q_target)      \n",
        "  \n",
        "  state_batch = np.array(state_batch).reshape(batch_size,4)\n",
        "  Qs_target_batch = np.array(Qs_target_batch).reshape(batch_size,2)\n",
        "\n",
        "  h = model.fit(state_batch,Qs_target_batch,epochs=1,verbose=0)\n",
        "\n",
        "  loss = h.history['loss'][0]\n",
        "\n",
        "  return loss"
      ]
    },
    {
      "cell_type": "code",
      "execution_count": 10,
      "metadata": {
        "colab": {
          "base_uri": "https://localhost:8080/"
        },
        "id": "EYJkd587bK_X",
        "outputId": "4bc68f22-fd65-4545-9ef0-00f404ebcaa5"
      },
      "outputs": [
        {
          "output_type": "stream",
          "name": "stdout",
          "text": [
            "1  R= 50.0\n",
            "2  R= 50.0\n",
            "3  R= 39.0\n",
            "4  R= 35.0\n",
            "5  R= 19.0\n",
            "6  R= 24.0\n",
            "7  R= 40.0\n",
            "8  R= 50.0\n",
            "9  R= 50.0\n",
            "10  R= 50.0\n",
            "11  R= 47.0\n",
            "12  R= 45.0\n",
            "13  R= 11.0\n",
            "14  R= 10.0\n",
            "15  R= 9.0\n",
            "16  R= 11.0\n",
            "17  R= 10.0\n",
            "18  R= 13.0\n",
            "19  R= 24.0\n",
            "20  R= 14.0\n",
            "21  R= 9.0\n",
            "22  R= 12.0\n",
            "23  R= 11.0\n",
            "24  R= 18.0\n",
            "25  R= 18.0\n",
            "26  R= 14.0\n",
            "27  R= 11.0\n",
            "28  R= 12.0\n",
            "29  R= 10.0\n",
            "30  R= 10.0\n",
            "31  R= 10.0\n",
            "32  R= 10.0\n",
            "33  R= 10.0\n",
            "34  R= 10.0\n",
            "35  R= 8.0\n",
            "36  R= 11.0\n",
            "37  R= 10.0\n",
            "38  R= 10.0\n",
            "39  R= 11.0\n",
            "40  R= 14.0\n",
            "41  R= 23.0\n",
            "42  R= 16.0\n",
            "43  R= 14.0\n",
            "44  R= 9.0\n",
            "45  R= 12.0\n",
            "46  R= 10.0\n",
            "47  R= 9.0\n",
            "48  R= 9.0\n",
            "49  R= 18.0\n",
            "50  R= 16.0\n",
            "51  R= 50.0\n",
            "52  R= 50.0\n",
            "53  R= 50.0\n",
            "54  R= 50.0\n",
            "55  R= 31.0\n",
            "56  R= 30.0\n",
            "57  R= 50.0\n",
            "58  R= 50.0\n",
            "59  R= 50.0\n",
            "60  R= 50.0\n",
            "61  R= 50.0\n",
            "62  R= 50.0\n",
            "63  R= 47.0\n",
            "64  R= 21.0\n",
            "65  R= 16.0\n",
            "66  R= 16.0\n",
            "67  R= 20.0\n",
            "68  R= 14.0\n",
            "69  R= 12.0\n",
            "70  R= 12.0\n",
            "71  R= 19.0\n",
            "72  R= 20.0\n",
            "73  R= 50.0\n",
            "74  R= 22.0\n",
            "75  R= 15.0\n",
            "76  R= 10.0\n",
            "77  R= 8.0\n",
            "78  R= 12.0\n",
            "79  R= 8.0\n",
            "80  R= 9.0\n",
            "81  R= 8.0\n",
            "82  R= 11.0\n",
            "83  R= 13.0\n",
            "84  R= 21.0\n",
            "85  R= 50.0\n",
            "86  R= 47.0\n",
            "87  R= 50.0\n",
            "88  R= 22.0\n",
            "89  R= 23.0\n",
            "90  R= 20.0\n",
            "91  R= 26.0\n",
            "92  R= 23.0\n",
            "93  R= 14.0\n",
            "94  R= 18.0\n",
            "95  R= 23.0\n",
            "96  R= 18.0\n",
            "97  R= 16.0\n",
            "98  R= 20.0\n",
            "99  R= 30.0\n",
            "100  R= 44.0\n"
          ]
        }
      ],
      "source": [
        "Loss = []\n",
        "Rewards = []\n",
        "\n",
        "for e in range(1, train_episodes+1):\n",
        "  total_reward = 0\n",
        "  t = 0\n",
        "\n",
        "  state = env.reset()\n",
        "  state = np.reshape(state, [1, 4])  \n",
        "  \n",
        "  done = False\n",
        "  while t < max_steps and done == False:\n",
        "      \n",
        "    Qs = model.predict(state)[0]\n",
        "\n",
        "    if np.random.rand()<epsilon:\n",
        "      action = env.action_space.sample()\n",
        "    else:\n",
        "      action = np.argmax(Qs)\n",
        "    \n",
        "    next_state, reward, done, _ = env.step(action)\n",
        "    next_state = np.reshape(next_state, [1, 4])\n",
        "    \n",
        "    total_reward += reward\n",
        "\n",
        "    memory.append((state,action,reward,next_state,done))\n",
        "\n",
        "    if batch_size < len(memory):\n",
        "      loss = train()\n",
        "      Loss.append(loss)\n",
        "\n",
        "    state = next_state\n",
        "    t+=1\n",
        "  \n",
        "  print(e,\" R=\",total_reward)\n",
        "  Rewards.append(total_reward)"
      ]
    },
    {
      "cell_type": "code",
      "execution_count": 13,
      "metadata": {
        "colab": {
          "base_uri": "https://localhost:8080/",
          "height": 295
        },
        "id": "Ab9Wdb2nZz7a",
        "outputId": "c5f3932e-ef5d-4238-942e-4abfb3ba82aa"
      },
      "outputs": [
        {
          "output_type": "display_data",
          "data": {
            "text/plain": [
              "<Figure size 432x288 with 2 Axes>"
            ],
            "image/png": "[encoded data removed]"
          },
          "metadata": {
            "needs_background": "light"
          }
        }
      ],
      "source": [
        "plt.subplot(211)\n",
        "plt.ylabel('rewards')  \n",
        "plt.title('Rewards per epoch')\n",
        "plt.plot(range(len(Rewards)),Rewards,\"b\")\n",
        "\n",
        "plt.subplot(212)\n",
        "plt.xlabel('epoch')\n",
        "plt.ylabel('loss')  \n",
        "plt.title('Loss per epoch')\n",
        "plt.plot(range(len(Loss)),Loss,\"r\")\n",
        "\n",
        "plt.show()"
      ]
    }
  ],
  "metadata": {
    "colab": {
      "collapsed_sections": [],
      "name": "Kopia notatnika CartPole_Q_learning_NN_ER.ipynb",
      "provenance": []
    },
    "kernelspec": {
      "display_name": "Python 3",
      "name": "python3"
    },
    "language_info": {
      "name": "python"
    },
    "accelerator": "GPU"
  },
  "nbformat": 4,
  "nbformat_minor": 0
}