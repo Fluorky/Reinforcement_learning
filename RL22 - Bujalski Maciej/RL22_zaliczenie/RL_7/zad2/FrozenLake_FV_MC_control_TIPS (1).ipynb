{
  "nbformat": 4,
  "nbformat_minor": 0,
  "metadata": {
    "colab": {
      "name": "FrozenLake_FV_MC_control_TIPS.ipynb",
      "provenance": [],
      "collapsed_sections": []
    },
    "kernelspec": {
      "name": "python3",
      "display_name": "Python 3"
    }
  },
  "cells": [
    {
      "cell_type": "code",
      "metadata": {
        "id": "GKDSwKjNNDc7"
      },
      "source": [
        "import gym\n",
        "import numpy as np\n",
        "import random\n",
        "\n",
        "env = gym.make(\"FrozenLake-v0\", map_name='4x4', is_slippery=False)"
      ],
      "execution_count": 82,
      "outputs": []
    },
    {
      "cell_type": "markdown",
      "metadata": {
        "id": "0DUqajgJX0Dp"
      },
      "source": [
        "Funkcja generująca politykę deterministyczną:"
      ]
    },
    {
      "cell_type": "code",
      "metadata": {
        "id": "kr3ypoNnW3NF"
      },
      "source": [
        "def create_random_det_policy(env):\n",
        "    policy = {}\n",
        "    for key in range(0, env.observation_space.n):\n",
        "        policy[key] = np.random.randint(4);\n",
        "    return policy"
      ],
      "execution_count": 129,
      "outputs": []
    },
    {
      "cell_type": "markdown",
      "metadata": {
        "id": "80q98XaWX4g4"
      },
      "source": [
        "Testujemy:"
      ]
    },
    {
      "cell_type": "code",
      "metadata": {
        "colab": {
          "base_uri": "https://localhost:8080/"
        },
        "id": "BHyjA_xwW5zU",
        "outputId": "93f18350-015b-464a-da0c-e39066d76607"
      },
      "source": [
        "policy = create_random_det_policy(env)\n",
        "policy"
      ],
      "execution_count": 130,
      "outputs": [
        {
          "output_type": "execute_result",
          "data": {
            "text/plain": [
              "{0: 1,\n",
              " 1: 3,\n",
              " 2: 0,\n",
              " 3: 2,\n",
              " 4: 2,\n",
              " 5: 1,\n",
              " 6: 0,\n",
              " 7: 1,\n",
              " 8: 0,\n",
              " 9: 3,\n",
              " 10: 3,\n",
              " 11: 0,\n",
              " 12: 0,\n",
              " 13: 1,\n",
              " 14: 1,\n",
              " 15: 2}"
            ]
          },
          "metadata": {},
          "execution_count": 130
        }
      ]
    },
    {
      "cell_type": "markdown",
      "source": [
        "Wygenerowanie słownika reprezentującego funkcję Q:"
      ],
      "metadata": {
        "id": "m6q6jXHdCyRL"
      }
    },
    {
      "cell_type": "code",
      "source": [
        "def create_state_action_dictionary(env, policy):\n",
        "    Q = {}\n",
        "    for key in policy.keys():\n",
        "         Q[key] = {a: 0.0 for a in range(0, env.action_space.n)}\n",
        "    return Q"
      ],
      "metadata": {
        "id": "NPxBogW0C3w8"
      },
      "execution_count": 85,
      "outputs": []
    },
    {
      "cell_type": "code",
      "source": [
        "Q = create_state_action_dictionary(env, policy)"
      ],
      "metadata": {
        "id": "yNXlAgMLC4zD"
      },
      "execution_count": 102,
      "outputs": []
    },
    {
      "cell_type": "code",
      "source": [
        "Q"
      ],
      "metadata": {
        "colab": {
          "base_uri": "https://localhost:8080/"
        },
        "id": "ZmvL0jaCC8xB",
        "outputId": "ab41ba21-90ac-4521-d1f6-8565a79aaf96"
      },
      "execution_count": 103,
      "outputs": [
        {
          "output_type": "execute_result",
          "data": {
            "text/plain": [
              "{0: {0: 0.0, 1: 0.0, 2: 0.0, 3: 0.0},\n",
              " 1: {0: 0.0, 1: 0.0, 2: 0.0, 3: 0.0},\n",
              " 2: {0: 0.0, 1: 0.0, 2: 0.0, 3: 0.0},\n",
              " 3: {0: 0.0, 1: 0.0, 2: 0.0, 3: 0.0},\n",
              " 4: {0: 0.0, 1: 0.0, 2: 0.0, 3: 0.0},\n",
              " 5: {0: 0.0, 1: 0.0, 2: 0.0, 3: 0.0},\n",
              " 6: {0: 0.0, 1: 0.0, 2: 0.0, 3: 0.0},\n",
              " 7: {0: 0.0, 1: 0.0, 2: 0.0, 3: 0.0},\n",
              " 8: {0: 0.0, 1: 0.0, 2: 0.0, 3: 0.0},\n",
              " 9: {0: 0.0, 1: 0.0, 2: 0.0, 3: 0.0},\n",
              " 10: {0: 0.0, 1: 0.0, 2: 0.0, 3: 0.0},\n",
              " 11: {0: 0.0, 1: 0.0, 2: 0.0, 3: 0.0},\n",
              " 12: {0: 0.0, 1: 0.0, 2: 0.0, 3: 0.0},\n",
              " 13: {0: 0.0, 1: 0.0, 2: 0.0, 3: 0.0},\n",
              " 14: {0: 0.0, 1: 0.0, 2: 0.0, 3: 0.0},\n",
              " 15: {0: 0.0, 1: 0.0, 2: 0.0, 3: 0.0}}"
            ]
          },
          "metadata": {},
          "execution_count": 103
        }
      ]
    },
    {
      "cell_type": "markdown",
      "metadata": {
        "id": "Jn6ibE7ZX78N"
      },
      "source": [
        "Funkcja generująca epizod:"
      ]
    },
    {
      "cell_type": "code",
      "metadata": {
        "id": "eXRDsW7lXCjc"
      },
      "source": [
        "def generate_episode_det(env, policy): \n",
        "    env.reset()\n",
        "    episode = []\n",
        "    finished = False\n",
        "\n",
        "    while not finished:\n",
        "        s = env.s\n",
        "        #s = np.random.randint(16)\n",
        "        #print(s)\n",
        "\n",
        "        timestep = []\n",
        "        timestep.append(s)\n",
        "        \n",
        "        action = policy[s]\n",
        "           \n",
        "        _, reward, finished, _ = env.step(action)\n",
        "        \n",
        "        timestep.append(action)\n",
        "        timestep.append(reward)\n",
        "\n",
        "        episode.append(timestep)\n",
        "        \n",
        "    return episode"
      ],
      "execution_count": 88,
      "outputs": []
    },
    {
      "cell_type": "markdown",
      "metadata": {
        "id": "XJrj5L1aYAme"
      },
      "source": [
        "Testujemy:"
      ]
    },
    {
      "cell_type": "code",
      "metadata": {
        "colab": {
          "base_uri": "https://localhost:8080/"
        },
        "id": "yt3hqnfXXQGm",
        "outputId": "4f6174ad-9bdc-483f-e2c3-bfdee744895f"
      },
      "source": [
        "print(\"LEFT = 0 DOWN = 1 RIGHT = 2 UP = 3\")\n",
        "for i in range(10):\n",
        "  print(\"Epizod \",i,\": \",generate_episode_det(env, policy))"
      ],
      "execution_count": 89,
      "outputs": [
        {
          "output_type": "stream",
          "name": "stdout",
          "text": [
            "LEFT = 0 DOWN = 1 RIGHT = 2 UP = 3\n",
            "Epizod  0 :  [[0, 3, 0.0], [0, 3, 0.0], [0, 3, 0.0], [0, 3, 0.0], [0, 3, 0.0], [0, 3, 0.0], [0, 3, 0.0], [0, 3, 0.0], [0, 3, 0.0], [0, 3, 0.0], [0, 3, 0.0], [0, 3, 0.0], [0, 3, 0.0], [0, 3, 0.0], [0, 3, 0.0], [0, 3, 0.0], [0, 3, 0.0], [0, 3, 0.0], [0, 3, 0.0], [0, 3, 0.0], [0, 3, 0.0], [0, 3, 0.0], [0, 3, 0.0], [0, 3, 0.0], [0, 3, 0.0], [0, 3, 0.0], [0, 3, 0.0], [0, 3, 0.0], [0, 3, 0.0], [0, 3, 0.0], [0, 3, 0.0], [0, 3, 0.0], [0, 3, 0.0], [0, 3, 0.0], [0, 3, 0.0], [0, 3, 0.0], [0, 3, 0.0], [0, 3, 0.0], [0, 3, 0.0], [0, 3, 0.0], [0, 3, 0.0], [0, 3, 0.0], [0, 3, 0.0], [0, 3, 0.0], [0, 3, 0.0], [0, 3, 0.0], [0, 3, 0.0], [0, 3, 0.0], [0, 3, 0.0], [0, 3, 0.0], [0, 3, 0.0], [0, 3, 0.0], [0, 3, 0.0], [0, 3, 0.0], [0, 3, 0.0], [0, 3, 0.0], [0, 3, 0.0], [0, 3, 0.0], [0, 3, 0.0], [0, 3, 0.0], [0, 3, 0.0], [0, 3, 0.0], [0, 3, 0.0], [0, 3, 0.0], [0, 3, 0.0], [0, 3, 0.0], [0, 3, 0.0], [0, 3, 0.0], [0, 3, 0.0], [0, 3, 0.0], [0, 3, 0.0], [0, 3, 0.0], [0, 3, 0.0], [0, 3, 0.0], [0, 3, 0.0], [0, 3, 0.0], [0, 3, 0.0], [0, 3, 0.0], [0, 3, 0.0], [0, 3, 0.0], [0, 3, 0.0], [0, 3, 0.0], [0, 3, 0.0], [0, 3, 0.0], [0, 3, 0.0], [0, 3, 0.0], [0, 3, 0.0], [0, 3, 0.0], [0, 3, 0.0], [0, 3, 0.0], [0, 3, 0.0], [0, 3, 0.0], [0, 3, 0.0], [0, 3, 0.0], [0, 3, 0.0], [0, 3, 0.0], [0, 3, 0.0], [0, 3, 0.0], [0, 3, 0.0], [0, 3, 0.0]]\n",
            "Epizod  1 :  [[0, 3, 0.0], [0, 3, 0.0], [0, 3, 0.0], [0, 3, 0.0], [0, 3, 0.0], [0, 3, 0.0], [0, 3, 0.0], [0, 3, 0.0], [0, 3, 0.0], [0, 3, 0.0], [0, 3, 0.0], [0, 3, 0.0], [0, 3, 0.0], [0, 3, 0.0], [0, 3, 0.0], [0, 3, 0.0], [0, 3, 0.0], [0, 3, 0.0], [0, 3, 0.0], [0, 3, 0.0], [0, 3, 0.0], [0, 3, 0.0], [0, 3, 0.0], [0, 3, 0.0], [0, 3, 0.0], [0, 3, 0.0], [0, 3, 0.0], [0, 3, 0.0], [0, 3, 0.0], [0, 3, 0.0], [0, 3, 0.0], [0, 3, 0.0], [0, 3, 0.0], [0, 3, 0.0], [0, 3, 0.0], [0, 3, 0.0], [0, 3, 0.0], [0, 3, 0.0], [0, 3, 0.0], [0, 3, 0.0], [0, 3, 0.0], [0, 3, 0.0], [0, 3, 0.0], [0, 3, 0.0], [0, 3, 0.0], [0, 3, 0.0], [0, 3, 0.0], [0, 3, 0.0], [0, 3, 0.0], [0, 3, 0.0], [0, 3, 0.0], [0, 3, 0.0], [0, 3, 0.0], [0, 3, 0.0], [0, 3, 0.0], [0, 3, 0.0], [0, 3, 0.0], [0, 3, 0.0], [0, 3, 0.0], [0, 3, 0.0], [0, 3, 0.0], [0, 3, 0.0], [0, 3, 0.0], [0, 3, 0.0], [0, 3, 0.0], [0, 3, 0.0], [0, 3, 0.0], [0, 3, 0.0], [0, 3, 0.0], [0, 3, 0.0], [0, 3, 0.0], [0, 3, 0.0], [0, 3, 0.0], [0, 3, 0.0], [0, 3, 0.0], [0, 3, 0.0], [0, 3, 0.0], [0, 3, 0.0], [0, 3, 0.0], [0, 3, 0.0], [0, 3, 0.0], [0, 3, 0.0], [0, 3, 0.0], [0, 3, 0.0], [0, 3, 0.0], [0, 3, 0.0], [0, 3, 0.0], [0, 3, 0.0], [0, 3, 0.0], [0, 3, 0.0], [0, 3, 0.0], [0, 3, 0.0], [0, 3, 0.0], [0, 3, 0.0], [0, 3, 0.0], [0, 3, 0.0], [0, 3, 0.0], [0, 3, 0.0], [0, 3, 0.0], [0, 3, 0.0]]\n",
            "Epizod  2 :  [[0, 3, 0.0], [0, 3, 0.0], [0, 3, 0.0], [0, 3, 0.0], [0, 3, 0.0], [0, 3, 0.0], [0, 3, 0.0], [0, 3, 0.0], [0, 3, 0.0], [0, 3, 0.0], [0, 3, 0.0], [0, 3, 0.0], [0, 3, 0.0], [0, 3, 0.0], [0, 3, 0.0], [0, 3, 0.0], [0, 3, 0.0], [0, 3, 0.0], [0, 3, 0.0], [0, 3, 0.0], [0, 3, 0.0], [0, 3, 0.0], [0, 3, 0.0], [0, 3, 0.0], [0, 3, 0.0], [0, 3, 0.0], [0, 3, 0.0], [0, 3, 0.0], [0, 3, 0.0], [0, 3, 0.0], [0, 3, 0.0], [0, 3, 0.0], [0, 3, 0.0], [0, 3, 0.0], [0, 3, 0.0], [0, 3, 0.0], [0, 3, 0.0], [0, 3, 0.0], [0, 3, 0.0], [0, 3, 0.0], [0, 3, 0.0], [0, 3, 0.0], [0, 3, 0.0], [0, 3, 0.0], [0, 3, 0.0], [0, 3, 0.0], [0, 3, 0.0], [0, 3, 0.0], [0, 3, 0.0], [0, 3, 0.0], [0, 3, 0.0], [0, 3, 0.0], [0, 3, 0.0], [0, 3, 0.0], [0, 3, 0.0], [0, 3, 0.0], [0, 3, 0.0], [0, 3, 0.0], [0, 3, 0.0], [0, 3, 0.0], [0, 3, 0.0], [0, 3, 0.0], [0, 3, 0.0], [0, 3, 0.0], [0, 3, 0.0], [0, 3, 0.0], [0, 3, 0.0], [0, 3, 0.0], [0, 3, 0.0], [0, 3, 0.0], [0, 3, 0.0], [0, 3, 0.0], [0, 3, 0.0], [0, 3, 0.0], [0, 3, 0.0], [0, 3, 0.0], [0, 3, 0.0], [0, 3, 0.0], [0, 3, 0.0], [0, 3, 0.0], [0, 3, 0.0], [0, 3, 0.0], [0, 3, 0.0], [0, 3, 0.0], [0, 3, 0.0], [0, 3, 0.0], [0, 3, 0.0], [0, 3, 0.0], [0, 3, 0.0], [0, 3, 0.0], [0, 3, 0.0], [0, 3, 0.0], [0, 3, 0.0], [0, 3, 0.0], [0, 3, 0.0], [0, 3, 0.0], [0, 3, 0.0], [0, 3, 0.0], [0, 3, 0.0], [0, 3, 0.0]]\n",
            "Epizod  3 :  [[0, 3, 0.0], [0, 3, 0.0], [0, 3, 0.0], [0, 3, 0.0], [0, 3, 0.0], [0, 3, 0.0], [0, 3, 0.0], [0, 3, 0.0], [0, 3, 0.0], [0, 3, 0.0], [0, 3, 0.0], [0, 3, 0.0], [0, 3, 0.0], [0, 3, 0.0], [0, 3, 0.0], [0, 3, 0.0], [0, 3, 0.0], [0, 3, 0.0], [0, 3, 0.0], [0, 3, 0.0], [0, 3, 0.0], [0, 3, 0.0], [0, 3, 0.0], [0, 3, 0.0], [0, 3, 0.0], [0, 3, 0.0], [0, 3, 0.0], [0, 3, 0.0], [0, 3, 0.0], [0, 3, 0.0], [0, 3, 0.0], [0, 3, 0.0], [0, 3, 0.0], [0, 3, 0.0], [0, 3, 0.0], [0, 3, 0.0], [0, 3, 0.0], [0, 3, 0.0], [0, 3, 0.0], [0, 3, 0.0], [0, 3, 0.0], [0, 3, 0.0], [0, 3, 0.0], [0, 3, 0.0], [0, 3, 0.0], [0, 3, 0.0], [0, 3, 0.0], [0, 3, 0.0], [0, 3, 0.0], [0, 3, 0.0], [0, 3, 0.0], [0, 3, 0.0], [0, 3, 0.0], [0, 3, 0.0], [0, 3, 0.0], [0, 3, 0.0], [0, 3, 0.0], [0, 3, 0.0], [0, 3, 0.0], [0, 3, 0.0], [0, 3, 0.0], [0, 3, 0.0], [0, 3, 0.0], [0, 3, 0.0], [0, 3, 0.0], [0, 3, 0.0], [0, 3, 0.0], [0, 3, 0.0], [0, 3, 0.0], [0, 3, 0.0], [0, 3, 0.0], [0, 3, 0.0], [0, 3, 0.0], [0, 3, 0.0], [0, 3, 0.0], [0, 3, 0.0], [0, 3, 0.0], [0, 3, 0.0], [0, 3, 0.0], [0, 3, 0.0], [0, 3, 0.0], [0, 3, 0.0], [0, 3, 0.0], [0, 3, 0.0], [0, 3, 0.0], [0, 3, 0.0], [0, 3, 0.0], [0, 3, 0.0], [0, 3, 0.0], [0, 3, 0.0], [0, 3, 0.0], [0, 3, 0.0], [0, 3, 0.0], [0, 3, 0.0], [0, 3, 0.0], [0, 3, 0.0], [0, 3, 0.0], [0, 3, 0.0], [0, 3, 0.0], [0, 3, 0.0]]\n",
            "Epizod  4 :  [[0, 3, 0.0], [0, 3, 0.0], [0, 3, 0.0], [0, 3, 0.0], [0, 3, 0.0], [0, 3, 0.0], [0, 3, 0.0], [0, 3, 0.0], [0, 3, 0.0], [0, 3, 0.0], [0, 3, 0.0], [0, 3, 0.0], [0, 3, 0.0], [0, 3, 0.0], [0, 3, 0.0], [0, 3, 0.0], [0, 3, 0.0], [0, 3, 0.0], [0, 3, 0.0], [0, 3, 0.0], [0, 3, 0.0], [0, 3, 0.0], [0, 3, 0.0], [0, 3, 0.0], [0, 3, 0.0], [0, 3, 0.0], [0, 3, 0.0], [0, 3, 0.0], [0, 3, 0.0], [0, 3, 0.0], [0, 3, 0.0], [0, 3, 0.0], [0, 3, 0.0], [0, 3, 0.0], [0, 3, 0.0], [0, 3, 0.0], [0, 3, 0.0], [0, 3, 0.0], [0, 3, 0.0], [0, 3, 0.0], [0, 3, 0.0], [0, 3, 0.0], [0, 3, 0.0], [0, 3, 0.0], [0, 3, 0.0], [0, 3, 0.0], [0, 3, 0.0], [0, 3, 0.0], [0, 3, 0.0], [0, 3, 0.0], [0, 3, 0.0], [0, 3, 0.0], [0, 3, 0.0], [0, 3, 0.0], [0, 3, 0.0], [0, 3, 0.0], [0, 3, 0.0], [0, 3, 0.0], [0, 3, 0.0], [0, 3, 0.0], [0, 3, 0.0], [0, 3, 0.0], [0, 3, 0.0], [0, 3, 0.0], [0, 3, 0.0], [0, 3, 0.0], [0, 3, 0.0], [0, 3, 0.0], [0, 3, 0.0], [0, 3, 0.0], [0, 3, 0.0], [0, 3, 0.0], [0, 3, 0.0], [0, 3, 0.0], [0, 3, 0.0], [0, 3, 0.0], [0, 3, 0.0], [0, 3, 0.0], [0, 3, 0.0], [0, 3, 0.0], [0, 3, 0.0], [0, 3, 0.0], [0, 3, 0.0], [0, 3, 0.0], [0, 3, 0.0], [0, 3, 0.0], [0, 3, 0.0], [0, 3, 0.0], [0, 3, 0.0], [0, 3, 0.0], [0, 3, 0.0], [0, 3, 0.0], [0, 3, 0.0], [0, 3, 0.0], [0, 3, 0.0], [0, 3, 0.0], [0, 3, 0.0], [0, 3, 0.0], [0, 3, 0.0], [0, 3, 0.0]]\n",
            "Epizod  5 :  [[0, 3, 0.0], [0, 3, 0.0], [0, 3, 0.0], [0, 3, 0.0], [0, 3, 0.0], [0, 3, 0.0], [0, 3, 0.0], [0, 3, 0.0], [0, 3, 0.0], [0, 3, 0.0], [0, 3, 0.0], [0, 3, 0.0], [0, 3, 0.0], [0, 3, 0.0], [0, 3, 0.0], [0, 3, 0.0], [0, 3, 0.0], [0, 3, 0.0], [0, 3, 0.0], [0, 3, 0.0], [0, 3, 0.0], [0, 3, 0.0], [0, 3, 0.0], [0, 3, 0.0], [0, 3, 0.0], [0, 3, 0.0], [0, 3, 0.0], [0, 3, 0.0], [0, 3, 0.0], [0, 3, 0.0], [0, 3, 0.0], [0, 3, 0.0], [0, 3, 0.0], [0, 3, 0.0], [0, 3, 0.0], [0, 3, 0.0], [0, 3, 0.0], [0, 3, 0.0], [0, 3, 0.0], [0, 3, 0.0], [0, 3, 0.0], [0, 3, 0.0], [0, 3, 0.0], [0, 3, 0.0], [0, 3, 0.0], [0, 3, 0.0], [0, 3, 0.0], [0, 3, 0.0], [0, 3, 0.0], [0, 3, 0.0], [0, 3, 0.0], [0, 3, 0.0], [0, 3, 0.0], [0, 3, 0.0], [0, 3, 0.0], [0, 3, 0.0], [0, 3, 0.0], [0, 3, 0.0], [0, 3, 0.0], [0, 3, 0.0], [0, 3, 0.0], [0, 3, 0.0], [0, 3, 0.0], [0, 3, 0.0], [0, 3, 0.0], [0, 3, 0.0], [0, 3, 0.0], [0, 3, 0.0], [0, 3, 0.0], [0, 3, 0.0], [0, 3, 0.0], [0, 3, 0.0], [0, 3, 0.0], [0, 3, 0.0], [0, 3, 0.0], [0, 3, 0.0], [0, 3, 0.0], [0, 3, 0.0], [0, 3, 0.0], [0, 3, 0.0], [0, 3, 0.0], [0, 3, 0.0], [0, 3, 0.0], [0, 3, 0.0], [0, 3, 0.0], [0, 3, 0.0], [0, 3, 0.0], [0, 3, 0.0], [0, 3, 0.0], [0, 3, 0.0], [0, 3, 0.0], [0, 3, 0.0], [0, 3, 0.0], [0, 3, 0.0], [0, 3, 0.0], [0, 3, 0.0], [0, 3, 0.0], [0, 3, 0.0], [0, 3, 0.0], [0, 3, 0.0]]\n",
            "Epizod  6 :  [[0, 3, 0.0], [0, 3, 0.0], [0, 3, 0.0], [0, 3, 0.0], [0, 3, 0.0], [0, 3, 0.0], [0, 3, 0.0], [0, 3, 0.0], [0, 3, 0.0], [0, 3, 0.0], [0, 3, 0.0], [0, 3, 0.0], [0, 3, 0.0], [0, 3, 0.0], [0, 3, 0.0], [0, 3, 0.0], [0, 3, 0.0], [0, 3, 0.0], [0, 3, 0.0], [0, 3, 0.0], [0, 3, 0.0], [0, 3, 0.0], [0, 3, 0.0], [0, 3, 0.0], [0, 3, 0.0], [0, 3, 0.0], [0, 3, 0.0], [0, 3, 0.0], [0, 3, 0.0], [0, 3, 0.0], [0, 3, 0.0], [0, 3, 0.0], [0, 3, 0.0], [0, 3, 0.0], [0, 3, 0.0], [0, 3, 0.0], [0, 3, 0.0], [0, 3, 0.0], [0, 3, 0.0], [0, 3, 0.0], [0, 3, 0.0], [0, 3, 0.0], [0, 3, 0.0], [0, 3, 0.0], [0, 3, 0.0], [0, 3, 0.0], [0, 3, 0.0], [0, 3, 0.0], [0, 3, 0.0], [0, 3, 0.0], [0, 3, 0.0], [0, 3, 0.0], [0, 3, 0.0], [0, 3, 0.0], [0, 3, 0.0], [0, 3, 0.0], [0, 3, 0.0], [0, 3, 0.0], [0, 3, 0.0], [0, 3, 0.0], [0, 3, 0.0], [0, 3, 0.0], [0, 3, 0.0], [0, 3, 0.0], [0, 3, 0.0], [0, 3, 0.0], [0, 3, 0.0], [0, 3, 0.0], [0, 3, 0.0], [0, 3, 0.0], [0, 3, 0.0], [0, 3, 0.0], [0, 3, 0.0], [0, 3, 0.0], [0, 3, 0.0], [0, 3, 0.0], [0, 3, 0.0], [0, 3, 0.0], [0, 3, 0.0], [0, 3, 0.0], [0, 3, 0.0], [0, 3, 0.0], [0, 3, 0.0], [0, 3, 0.0], [0, 3, 0.0], [0, 3, 0.0], [0, 3, 0.0], [0, 3, 0.0], [0, 3, 0.0], [0, 3, 0.0], [0, 3, 0.0], [0, 3, 0.0], [0, 3, 0.0], [0, 3, 0.0], [0, 3, 0.0], [0, 3, 0.0], [0, 3, 0.0], [0, 3, 0.0], [0, 3, 0.0], [0, 3, 0.0]]\n",
            "Epizod  7 :  [[0, 3, 0.0], [0, 3, 0.0], [0, 3, 0.0], [0, 3, 0.0], [0, 3, 0.0], [0, 3, 0.0], [0, 3, 0.0], [0, 3, 0.0], [0, 3, 0.0], [0, 3, 0.0], [0, 3, 0.0], [0, 3, 0.0], [0, 3, 0.0], [0, 3, 0.0], [0, 3, 0.0], [0, 3, 0.0], [0, 3, 0.0], [0, 3, 0.0], [0, 3, 0.0], [0, 3, 0.0], [0, 3, 0.0], [0, 3, 0.0], [0, 3, 0.0], [0, 3, 0.0], [0, 3, 0.0], [0, 3, 0.0], [0, 3, 0.0], [0, 3, 0.0], [0, 3, 0.0], [0, 3, 0.0], [0, 3, 0.0], [0, 3, 0.0], [0, 3, 0.0], [0, 3, 0.0], [0, 3, 0.0], [0, 3, 0.0], [0, 3, 0.0], [0, 3, 0.0], [0, 3, 0.0], [0, 3, 0.0], [0, 3, 0.0], [0, 3, 0.0], [0, 3, 0.0], [0, 3, 0.0], [0, 3, 0.0], [0, 3, 0.0], [0, 3, 0.0], [0, 3, 0.0], [0, 3, 0.0], [0, 3, 0.0], [0, 3, 0.0], [0, 3, 0.0], [0, 3, 0.0], [0, 3, 0.0], [0, 3, 0.0], [0, 3, 0.0], [0, 3, 0.0], [0, 3, 0.0], [0, 3, 0.0], [0, 3, 0.0], [0, 3, 0.0], [0, 3, 0.0], [0, 3, 0.0], [0, 3, 0.0], [0, 3, 0.0], [0, 3, 0.0], [0, 3, 0.0], [0, 3, 0.0], [0, 3, 0.0], [0, 3, 0.0], [0, 3, 0.0], [0, 3, 0.0], [0, 3, 0.0], [0, 3, 0.0], [0, 3, 0.0], [0, 3, 0.0], [0, 3, 0.0], [0, 3, 0.0], [0, 3, 0.0], [0, 3, 0.0], [0, 3, 0.0], [0, 3, 0.0], [0, 3, 0.0], [0, 3, 0.0], [0, 3, 0.0], [0, 3, 0.0], [0, 3, 0.0], [0, 3, 0.0], [0, 3, 0.0], [0, 3, 0.0], [0, 3, 0.0], [0, 3, 0.0], [0, 3, 0.0], [0, 3, 0.0], [0, 3, 0.0], [0, 3, 0.0], [0, 3, 0.0], [0, 3, 0.0], [0, 3, 0.0], [0, 3, 0.0]]\n",
            "Epizod  8 :  [[0, 3, 0.0], [0, 3, 0.0], [0, 3, 0.0], [0, 3, 0.0], [0, 3, 0.0], [0, 3, 0.0], [0, 3, 0.0], [0, 3, 0.0], [0, 3, 0.0], [0, 3, 0.0], [0, 3, 0.0], [0, 3, 0.0], [0, 3, 0.0], [0, 3, 0.0], [0, 3, 0.0], [0, 3, 0.0], [0, 3, 0.0], [0, 3, 0.0], [0, 3, 0.0], [0, 3, 0.0], [0, 3, 0.0], [0, 3, 0.0], [0, 3, 0.0], [0, 3, 0.0], [0, 3, 0.0], [0, 3, 0.0], [0, 3, 0.0], [0, 3, 0.0], [0, 3, 0.0], [0, 3, 0.0], [0, 3, 0.0], [0, 3, 0.0], [0, 3, 0.0], [0, 3, 0.0], [0, 3, 0.0], [0, 3, 0.0], [0, 3, 0.0], [0, 3, 0.0], [0, 3, 0.0], [0, 3, 0.0], [0, 3, 0.0], [0, 3, 0.0], [0, 3, 0.0], [0, 3, 0.0], [0, 3, 0.0], [0, 3, 0.0], [0, 3, 0.0], [0, 3, 0.0], [0, 3, 0.0], [0, 3, 0.0], [0, 3, 0.0], [0, 3, 0.0], [0, 3, 0.0], [0, 3, 0.0], [0, 3, 0.0], [0, 3, 0.0], [0, 3, 0.0], [0, 3, 0.0], [0, 3, 0.0], [0, 3, 0.0], [0, 3, 0.0], [0, 3, 0.0], [0, 3, 0.0], [0, 3, 0.0], [0, 3, 0.0], [0, 3, 0.0], [0, 3, 0.0], [0, 3, 0.0], [0, 3, 0.0], [0, 3, 0.0], [0, 3, 0.0], [0, 3, 0.0], [0, 3, 0.0], [0, 3, 0.0], [0, 3, 0.0], [0, 3, 0.0], [0, 3, 0.0], [0, 3, 0.0], [0, 3, 0.0], [0, 3, 0.0], [0, 3, 0.0], [0, 3, 0.0], [0, 3, 0.0], [0, 3, 0.0], [0, 3, 0.0], [0, 3, 0.0], [0, 3, 0.0], [0, 3, 0.0], [0, 3, 0.0], [0, 3, 0.0], [0, 3, 0.0], [0, 3, 0.0], [0, 3, 0.0], [0, 3, 0.0], [0, 3, 0.0], [0, 3, 0.0], [0, 3, 0.0], [0, 3, 0.0], [0, 3, 0.0], [0, 3, 0.0]]\n",
            "Epizod  9 :  [[0, 3, 0.0], [0, 3, 0.0], [0, 3, 0.0], [0, 3, 0.0], [0, 3, 0.0], [0, 3, 0.0], [0, 3, 0.0], [0, 3, 0.0], [0, 3, 0.0], [0, 3, 0.0], [0, 3, 0.0], [0, 3, 0.0], [0, 3, 0.0], [0, 3, 0.0], [0, 3, 0.0], [0, 3, 0.0], [0, 3, 0.0], [0, 3, 0.0], [0, 3, 0.0], [0, 3, 0.0], [0, 3, 0.0], [0, 3, 0.0], [0, 3, 0.0], [0, 3, 0.0], [0, 3, 0.0], [0, 3, 0.0], [0, 3, 0.0], [0, 3, 0.0], [0, 3, 0.0], [0, 3, 0.0], [0, 3, 0.0], [0, 3, 0.0], [0, 3, 0.0], [0, 3, 0.0], [0, 3, 0.0], [0, 3, 0.0], [0, 3, 0.0], [0, 3, 0.0], [0, 3, 0.0], [0, 3, 0.0], [0, 3, 0.0], [0, 3, 0.0], [0, 3, 0.0], [0, 3, 0.0], [0, 3, 0.0], [0, 3, 0.0], [0, 3, 0.0], [0, 3, 0.0], [0, 3, 0.0], [0, 3, 0.0], [0, 3, 0.0], [0, 3, 0.0], [0, 3, 0.0], [0, 3, 0.0], [0, 3, 0.0], [0, 3, 0.0], [0, 3, 0.0], [0, 3, 0.0], [0, 3, 0.0], [0, 3, 0.0], [0, 3, 0.0], [0, 3, 0.0], [0, 3, 0.0], [0, 3, 0.0], [0, 3, 0.0], [0, 3, 0.0], [0, 3, 0.0], [0, 3, 0.0], [0, 3, 0.0], [0, 3, 0.0], [0, 3, 0.0], [0, 3, 0.0], [0, 3, 0.0], [0, 3, 0.0], [0, 3, 0.0], [0, 3, 0.0], [0, 3, 0.0], [0, 3, 0.0], [0, 3, 0.0], [0, 3, 0.0], [0, 3, 0.0], [0, 3, 0.0], [0, 3, 0.0], [0, 3, 0.0], [0, 3, 0.0], [0, 3, 0.0], [0, 3, 0.0], [0, 3, 0.0], [0, 3, 0.0], [0, 3, 0.0], [0, 3, 0.0], [0, 3, 0.0], [0, 3, 0.0], [0, 3, 0.0], [0, 3, 0.0], [0, 3, 0.0], [0, 3, 0.0], [0, 3, 0.0], [0, 3, 0.0], [0, 3, 0.0]]\n"
          ]
        }
      ]
    },
    {
      "cell_type": "markdown",
      "source": [
        "**Czy pierwsza wizyta w danym stanie?**"
      ],
      "metadata": {
        "id": "1wSeK1m1F9Rp"
      }
    },
    {
      "cell_type": "markdown",
      "source": [
        "![image.png](data:image/png;base64,iVBORw0KGgoAAAANSUhEUgAAApEAAAAhCAYAAACBfvCXAAAgAElEQVR4nO2de0DO1xvAP6+3IhVJUcJEuaRch+TSzCYzC4vJ5idEcy2atAxzz62RS0K5zdxjCitjWxm5rYsoq6ykVhJFN6rX+/ujoru3e+z7+Yu39z3f55zznOc833Oe5xxRWlqaFAEAJKFumJ025MjiAajUtTDvFBKSfRYxJnoif8w0RFzX4ggICAgICAhUGZHgRAoICAgICAgICFSUBnUtgICAgICAgICAwNuH4EQKCAgICAgICAhUGMGJFBAQEBAQEBAQqDCCEykgICAgICAgIFBhBCdSQEBAQEBAQECgwpR0IlOv4DLTmuljB6GpooKKigoqKpp0GzERa+vv8Yx6/uqrkihPvinyPRU0B43nG89IJJUS5zmRBya/Lq+bC0G5la5b/UESwYExnV+1kYq1F4l1LdM7g4SMmEscWDkFE5OxTLe2YqzJMCatOk5Qchbp4T8x61sfkutEtkwiD1jRxrauni/wTiBNI8b/R1ZOGobJWCusp4/FxGQKq44GkpzzlPAfv+Vbn4Q6FrK+6Hp9tgcF1Je2qn9IM6LxP7CSSSYfM3a6NdPHfozJpNUcDUoiJ/02P85agU9y5byL+s/bqRdyJT5RNcZ2hzHwjBsbxvLhigAw3865vea0FhX9qljXHOcTn7MuwZfFI51h9R5WDW9TSqGy0gi9SXuJGzGNzZZTWP6g0gXVL8QdmXTqFiOubMfSdCn+dS1PTSFNIWinHZb2kQzctx8X8w7I1+gDM4g59wM2zk8Y5bSGi0u08nUvm+TAQyy1W4D48RX+HX8UtRqVozSk5D7w4YfvjpH63vskSEBdOCDzrUOaFsjO6dOx/3sw+06twbydYu0K8Pwfzjk54pw6HKf13izRbJj3eW4SgfvXYWeXyePjGYz/s1ntylWE+qLr9dkeFFBf2qq+IeV5zC842biROmoR6y8uRlNOBEjJTf6L/UsdsRM/4vi/Y/lT7V1ssLdXL8rZzhYjp5DvDirIIycq63si5LQMMO7dC+MeWlVwIAuVp96Ojtq1bKyrTDZxfqfwi8su4+8KqLfvgHatylTLvEwg8OQFognB+3oM6TX6sFySL+9gtm0CX7qvwapvYd1TQL3XF9iYpLLPvw1DDLVqP25Dmoif63YOpgIpGTzPFY5jfRt5GR/EybMREHWV6/fSavfh0odc/sEe29jPcd84mb4FDiSAXAt6TbLC5P4F/HXex7Btw7LLqXE564Ou13N7UEC9aKv6hzT5T36YvYbYL53ZaGWU70BCnj/Qm0k2xtzfdx2dIQa0fReD8N5ivai6zyeQTwaxl7wIbjIMk9YKdS1M3SDuxPjtHnDxGd1GD6RG10aybvHT0p0kW/+EmU5pLxyN0e3VFx3NVHp0UKpJSUpBQmrAQbZGqtIfCIh9QEKKBDSF4fa2Ie40ju3H5bj4VJ/RJhq1+GQpWcHHWOqUhfVvw9GRL+UtXv49eg3VQ/NxdzoolPmWX8PUE12v1/aggHrSVvWOZwT/9ANOyWP4zUy3lN0rEfK6vRiqo8fjHu/x7s2ub7devIs+fZ0gfRbG795JdS1GHSNGWW8YVjPG0kezJldGpGQG+bDjuiLdO7WicXkSfdSTTiq1rOZZoRzekMzURRa0AyCF1PR3Ibj3P4ioCXrDLZkxvk+h1ZHaIJWgsz9zHT06tSnP6VHho/c71N01rfVC1+u5PSigXrRVPSTzNmd3XIDuerRpXM4YE/fm/U5Na0+u2uIt1wvBiawGpOkReDtvZGvY27ME/XYj4VnyQ+JJIiT0Ps/KaHaRnBL9TbrSolYXaTKJPL6LS2Om8EnXdui1BUgmJe1dDQYXqBkySI59BPxN6D9PKV3FRcg11MekmwZ1sw5ZX3S9PtuDAupLW9VDniUTGw+EhPPPszLaQyRHw/796dbi7Vidk523Xy9qrkckERwYa8bsC/EA6Kzy4/r4bH5yPUKEQhvU065z6KoG1msWMX1AqwoIkk1y0GncXDyJatOTrkRy7YEO42ynY96zRX45UnKTg/Dc5sFFyXt0VVcg+3Ecj9VaI/9bEgP2rGS4uhhykwjy3MWOi1nodW2BQvZjoh83RU8+hMgB69g8XOsNsrwgxms9a87E8CT8NhnAidU23FETA2KamNqxzlyPkvGxUnITr+IhU1vIUt/ykJDqt5ohIzcQBcAgVp5ZQefgH9l7JZ2mTZ4S7vMUgwXfYGf1MXrKxaQt3Eb6jYj71Z/43pNxmFVstVESyZFJFkz3igBAZ5U/gbY9kSv+fJ1V+F0aSdLubZy9/5A//Row0c0ZO+OWFZgIxTTRaos+GYRtXc4SNRssPupPH73mRdpDbDgNV0OZC60G8oKjN53qjuOhTsiLg1EQA6Tw75MMoAa20WTtn1Q/lg4Zz6aoDAB0Vp7maOfbbN17lZymiqSE3+CRwTQc7SZjqtckvy8e4bfUgpGbrueVobOMM0e7Erz1AFdylGmSEo7Po24scLTFyrQjyiU6MH8cuu3geJQG/brCnWuP0B03kxnmPVEvvLJXqXoMYpWfB6OSjrD+bBTP/rxJzkRnttsNRF2UTXLQz2zb4YdETw91hWweRz9FTU/Kb5GD2bN5OOpvaFpJ1GEmfT4fr+j8Z/kfx7anEnmnSMxg0GxPMgB0VuF//QtyftrJvgg5Oqo/5c9DIWhYL+X76QMquYKpgpZea+ASWx1XouZgwUf9eqHXvPBmXmMMZ3xPrar4K+pA18ukvtqDAupTW9VDmmiip68EYe44LmmCg8VH9OujS/PC40ZsyIy66bwa5C3Ui5x/OL1wBl9f1GSRxybm9mleg05ksYzkmDgfNrm8x6jvnLFSFoP0Ib0czRk9x42Ovy5lqLosomQRc24ds2zjMT+9k+/0myIil2S/dZhPXY302Bos9JQgJ4oT9s7EzdrGzj7N8idECWk3tjB6SQZ9cqVAFtEnVuAQ9z88d/ZDJV9fpWnXcB59iMw+srwJNKSd2RJ2mWUQ5DIO32AY+92W/ImmHGJ/Zo3LR8x5Y1vIWN9yEaNqspTARAuOLbJk2p5LLFl6iv3uKzli2wQRUnIT/2Cd1UwGnZ+G5/55DHj1/GeE7l7OfrW5bNrZGSURMOcBPosn85lVQtHvivWw+CmAj/L7+0FZz7/wDxdcD6ExaglLY50w3OfGhqMTsTR+86T+GhGNDU2xHrGHeecC2LMwgD0ASj0Y8b9RfDrUlBEfGRR1UmoDaSJ+rifRmLcJA0URoIGOkQ5EZ5CSUVbCVVWoQP+omrAiMJLJx5ZiOs2d6CXr2b9/M+uP2OQ5f7nx+K2zYfwgP2w8XXEc0BIRGpisOE/i5JMsMp3KnujNLN2/Bff1P2KrLAZekOjngtV4M87b7Ga/4yDUXzW5lJyYcyyd5USC+Q72fWeIsgikyb+z3Hw+S6Q72WTRmUZVqkcgcRc82KkxivVLu/Cd4QH2bDjNTUsjhqadwt7hX2Z5bqGPSv6LkTSFG85TWJJphCybRWLdCfwUOIQrm+dgujyz0F+KnSIR8w+/bnJHY9R8tls1RYQEy17L6Dv6O5p2PIrTUM1KrBQ2wXDkOEY4X+JcoAcLx3sAoNTjM/5nNpyhwz/hI0ONugtqr3VdL496ag8KqFdtVQ9prM9I6+E4z/MkcM9Cxu8B0KTHiFGYfTqM4SM+wFD93YuEfCv1Ij2aKycCyEhV5cyth8zu07ymt7NfZyTH/ngP7alj0C9Y6RKp0alPN4j6Hb87T2UoS0pO5Am+nerBizkz+VK/ab5hlkN98ARmdvLFftNFEqQguefPnhNN0dFSLmS8xaj0/hTLoflmVxLNb3su00pHs8gKikilO6Mte1dP9csiuAFGb2wL2esrCyIlbTq2bwb0wm7FfMa8Wm0SIaf5AXarZtPVfyNzVp8nsaDMZ0Ec/+EAHmv3c+lhTt5ncm0YNs0SI/+N2O0NJLPIU8rOQH/1/NiT+Db+FAt9NdQHTmXX6vXsmNmf5jI3Xj6NumK5/Ufc7T5Fp+CzjGDOuS1n9rhxWK77g8RazXDLC452ef4lMwcXbC8qoNRMCYjmavQjmRyXClHR/hGp0LZjOxQBbTtHFo3p/Fr35bQxsfsOx67XcZqzGd/E/PIQo9RWl/aKgPZ0ViwyK7Ra3RBNkxmscuyCv9MiVvvGvd52zfmbw98uZNuL8dh+afDqOSL1AUyeqcdB+52cT8ipYj0CcfNtyhcWBiir92fmrg2s3jGFgc1zuPfbKU60aotW4ZV1UTN6j/6coRVpYzl12ncsVaNfnyIRe4FA7XFMfDVGxah26sEAAvH0+5vK5XSLaNTlK7b/4oGdacdXn2YEe+O2YjbjPp7BOr/46tcpmagDXX8T9c4eFFAP26reoUwXy/X84r4AU52CRZFEgs/tZMVscz623Ixf4os6lbD6eUv1otlA5p/cy4bNHmwf3wkxtRkTaWSCcYfCIc8i5OTlgackPs2SoYAUbhz9kbMZXRhurEuR/DuRJl1NupB68hIhjyWI5ORpzG94bD2Ef0za64mtQUt6TvoQHeUGIJJDvnE6Ph5uHPCPJuPVlxTQ7DmK4To1GKouU1vIXt+KoYRaE8ViKyMiFA2G8uUQFaLc93Dqdkb+x3IoNFGChGRSn7989e0G7QwZopNB2K+hxFY4dON1fUTKXTCzmcmYzk0rsVIjQk69F+OXH+FWSgyB5z1xX/8NEwbpAvH4r3XC/XpKhUutNFmhHN4Qx5c2Q9B8VRkl1Frl5ahnp2VR7e+WVegfBbUmlIhhV+yM6ZeDIeogzqfCS8qr0JQmjYsHZ6hgYDqSIQTj7nyG29lS4CVpN07hcjaWtsON0Fcs/CAF2nTtTfdUfy6GJFe5Hq/KFzWls9kMbMbooywSISevAD772XrgEjEZr3/cQLMnk4broFx6cZWkNyOM2xXJKhXJyaMAJCY+LfaiVREUUO/5BctP3CQlJpDzJz1YbzeBQTpKkHGetXYHuJ72ur3ITeC6hz0WM5ez2WUd31rbssE7gvTq9p0qpesvSLy+l3kWs1m5eTMbvp3FzA1niUyvrtivytoDCWmB2xk9r4YOeK6iXZCm3WTL6EXv8AHb+ci1oOf47zlxK5aYwAucdF+H3YTB6AAZ/j9g536zki9jlUSaQuCWacyrqUP862K+eCOyjIWGaPYZywyrYa8WE2rPiWyhinJVnvbiHpcPBwC6tNcqfoSDAhrabSHjDn8/eE6DDqbYO3Yl0HUOnxq2oonmIMbbO+HhfR8tsxEYKjeABu0ZYf81vQO3MefTbmg20WPQ+G9Y7eFDtNbHfG5Yg1lgsrRFBepbLchr0aVvW+A2fnce5jneKsZ8e/4KV29uYnzrdKJu+OHj9TNH9h7nUgqQmE5WhSeoLnRqU17+ZCWQa45e/2GMn7mMXV5eHJ/dFwjg2I37Jd7mpOlRXLoUVc0TayaRx3fiO2wKo4ocLyJGpVneJn18bDLPyvh1pWWq9v5RpG2XrmiTylW/MP6V6bci5Nt2oa82cPUmd/7NAdK5e/l3ImhLn/YtShzJIdbQRp8Ifv87Ma9/Kl0PHQZ00qLkOQCN6DBiOo69I3CdMwJDTVU0B32J/WoPvKM1MfvcsJqdyGaoKtfkxrIIueZ69P/4C2Yu34mX7z5md1SCiEvciCp46UwnfP8i5saOZIfr98yzdcDph2moec5nSeEV4ipTGV2X8jz8ELZz4xizYwtL5s3D3smJuWqnmbjE9/XOR3Uhqz3ITSbcZxtzrVZyMTO7BlZ+qmIXsnkc7sOWuXP57mIG2W/RuYFVQ4Hmev34ePwslu86ie/xeXQkg4hjN4kqYcyfEXUpgKhqexEBkJL7OAyfLfZYfXedzOyacN7raL4ojyqMhXIsnwg5hTo8wLY4KQlExgL8je++bcSVOKahPatWG2PcpiGIlBiwcAe/dDrIvj0/ssc/mHNuwZxzc2HbRBeObfoCvUZyqA+wYf8v7dm37wAH9lwk+Nwugs/tYu22qeyWKd6wBqlIfasFBRRVGgLxhD18igSQQ4S4YS4PDjowa2ME+t9YYzGgKwYmrXm4dSu+1fTkiiBNvsiqE2o4zOhZ+nlhcq0ZYv4JbbdfL+WPT7m5w4YR5824crYDhtVytl5+cPT+R2h0cMXWuujfnseF5v0z5hGpEtAskWVVFZmqu39EKCgq5bVr2ENSJNBOFt9IQREVBYB/eZiSA+2ekRCZCDzjnu9+tsSVfCHrumotJsba+Uln1a9nIvWBLNx/mE779rHnwFH8g71xC/bGbe1eJu52LxSPWd/IJfniDk6oTWZGz9J2Q0TIaRljbtGN7Stefyp99Cc7l8Uz9mRPmhWEDih3xvSz95jnfIapH35dDfpeSV2XJvLHTjduj92GUbOCEJ6mdDE1pcu8PZyaasJMw8rZ2sraA0mUJw5bQ9Ds1oI2WjWx61QFuyCJxNPBlRDNzmi1aVkDstUTpIlcXPULag6T6VmqbjZEa4gZFm03s6Lkj8m8uZuvRgQw+cp+dCupP0V5TpTnWraGqNBNqwVvSqutHHU5X5ROVcdCOVNEQ1p31EeVC6QmpZL+krLXLTNjuRXdjlEaNfg23rgpmppAogEjp83FrJyDOKXp0YQ8bE4PcztczO1wyX1M5I1r+P/sxneuK/je5H0OjtcgOuQxLXt8zgKXz1ngks3jyEBu+P/Mlu+2M+/7/hgdtKBdpVdPnxJ68k8Y9kneymcN1rd6yCYr7QWgjX7LpogBaWoAzl9NYXniOI5fP8NwrYIr14JqWJaykJAa4keAvEUpGe/FMeATA+2iCp75N3+c+Ich1oPpXF2HM0sT8XP9hfZrd/PNqySu1+QGuRA8eDHRZa2mVUGm6u8fKdlZGXnbKPotaSbrtVvZWaRlA7SiZTN5QJGmmnmOY5eRU7E1a13+U6u9HhLS793lYctumC9wwXzBZnIfR3Hjhh8/b9mI6zxnTIy2YdGuHr0kv+IJIedDkZ8iw3hX7YlBu0bAS9LCrnE2VZe1RXYt5NBo2562V//g+j+WGHau4i1gldX1tAiunE2nz9qiq9IijbZ0bXuNU9fvY22oL8OYLk7l7YFY15yNLuZAHF7XdlX4yW+kKnZBrIf5xk2Yk0uiVxgLq1+6+kHqHc4HvGSK+M12T/UTg2IvtM+488dFwoaYM6Rzde1sNULXfBku5kCiF9cWnqmmcgtRh/NFWVR1LJR77aFqr2FM7agEf90h6nFZC5xSsv4OJGhYbzrU5F2PKu/RfaAOEE10QmkxlFJyH0ZyNzkbSaQXVrtukFrwJ7nm6PUfgdVqF7ZPbIT3b3dIktzjjJU711ILlqsVaK5nxHCrZezcPhV57wBuJVVlgyONaB9/otNfvvmrpVGB+lYL2Q8I8YsADDDp2hIRGdw+7MxyfwXGLrLCVKusCfc5UZ5b8Yyqpm31cnlGeMBl4tJflLM9l0bYlcvE9v0SC2MNQErW3TNsddnEqnmOrAjTRjPBF1eXHXiGypLQVR4S0m4eZZvCRKzeL2kQAESKymgCRP/Dg+QCfaoOmWqifzK5FxJIPKoYmejTSiYbJSX73i384gGj9+naSh5QoUP3biiRRGh0UumxPblJ3L37iNwaqcdzIs+sYde1x/n/z98OHm7F6p1rmCh/jd9uPZKlcrVPZhQBp+NIzyrHbmRFccUnlr4LzDFuJgaySbp/j0TkkS+SgSxCLCePmHjuP6x8ZGYeldV1eJl0n1uJYhTkxUV/J5ZDQZxK9P1HZFRKpsrYg9qg8m3130FKZvg1TseVF3IjJSvsKj6xH7HAok/eDWhZd/Ha6oLLKnvsVoTSQzMeX9ctbPEMreFrdquDupwvao5yl8hEzfox/XtLdFPPsNfrLqWZb2l6CPu3PMRyQrdybwqoMqI2DJv7NUOUgvDyj6SEWyVNJejH7fjmxwjmHDrPtUfFBqdcC9p3bol2W3WaAORcwPtaUjED1Ait9u1ppt0S9SayesUNUFRuAuSSnZvvlEol5LxsStPGlVzKrGB9ZSeDJ8+yitVZQlrIRU5czaGj3VwsDJSAFKKDIoDW9Ghf9DBjacpDolMK/TYulLjaOBxVkkC4fwTR568T/rw0yyPleaQ3Ltsa4LjiC3ooigARip1HMtd2BmP7aYD2UCbbzcPWdibmxeNecxO4cXQXbieDSJYhBkmaFsTeTU/4eqbxqy3E4ohVNfJvIcgh51WZFZCpTKrWP9lPnpFZrIrStNv4nrgGHa1ZbNG15PZg9lOeZRbrZ2kqIb4+XMUIu8XmGCiIAAW0h01h0RBVbntd5k6JWUJCWtBhVvo+IKfG9CyFQ96BPCryaBFyWjp0bqZBW/V6eAYbIIkNxz8+kvNX75VqbyGDyONubGs0jRVfdctPuJOQllJeWkjx5EUpuYk3OLrDnZNBSTLFP1Ve1+FlWgr/lFN2ieQjWcdhpexBZXhB4o0T7HA7TZAML+1Vaauqk9+3bvvxiXz2hljYvHq5eZx/Q4JTxct8c1s9Jzb8FvHRAVwNLyNl5vldjrscpZGjHV/1aJL3mWJnzObaMmdsPxTpiOnkudja2mJjXt1xzm+iNsdQdcwX1UVJnXmDh9OI1p8t4tDuESQuW8SyI4GFBrWE9EgfnO13kz55BiNalx5hJM3NyVuJyM6h6FiRkpuTU+pvkErIyZaAJIdcScGPxKj0nMi6DaN54rQaZ597rzOqpWnE+LqzVzQeywJlSz2E07bfixzrIE27zcUzatiOMsh3eMPwcHLnt8LHB0hTCLp4hXa2I+hZ3hVMxdrpvb5DGKIUzaVbceQgJTfuL35r2gv9QrGMFWuLCtZXZgLZuX4P/q/qLCU30Z8ty9x5MtGZg/YD8xW8JX0//xRd4gj6O+H1IJE+5fbJP0g16Q5ZyTxJyyIrvSWtNeSL1rEEEnKzc6mK0ZQ+uMWvAa0ZpX2ZVcuOFjVS0jRi/HZiY3EKPfctLBxQ7PByaRJ3LoWiZNqLjqX2q5Ts0OPYTPsGe0sH3N6Q2S1Nj8B742q2tjGhn2bJ215f0VCJZqoAMcQ9KtYyb5SpPCrXPwXE79zCVv9CR8TkxuO/ZT0bn4zG9aANg0vby44/xPqt/oXG1AsS/XezbGMyE103YT/4tRMoUunJ1HVLmPjEjcXOvoUypCVkxPzKlr1ibC27o1ipekiR5OYgQUJ2jqTMSS3VYwvbfosrZOAlpAX9wZl2XzCqp6qM7SyDnSpFp8seB+WRzYPgAAJ0e6MdsLGYvQVpRjR+O+yxOKqLu8fcQue5VpR0Qo+uZNrC+VhO8yia4V0K1aLrMiP7OKySPagI2Xc4ajOHhfZfM83tRrlZwrXbVqXxCL9NNkyzn8O42cf5uzzfMOVPNn0+Bft5Vsw++jdlf7UCZcraVtIEgn8NRXeUMgGr1nOkiCMmISPGjx02NhzVW4nHwoGFzp8FyCHhzl8EKPXi/Y4Vnf+qizoYQ1WaL6qJUnTmzVZI1JQuFms5Z3QFzx+3MkYnipbD3yPzZgLqn09mmsNaBrVTKTlAJZF4OmzgdNgNTgF4rsL6pS/6o+xx6n4Lx3WHueadFzJ/2HoCT7w/ZILDfLqHbGL96RtcPRUL7MTuq3AMBlnhZGuMqqgpXf7nzK89zrHX2ZqBW7To07ohT580wHDcTFbY9kRVBBK5hrSeuAKHD+JxtfkWhY6tUE6PITi2OUPXbGCCYROQyKHQeirbHPoR4+qAg0JbWilnEB2cSPOh37BrQndkjyASoWjwJVv2peGw8H+M8uuGSgMDZq2dg4aosm3hiLmubPWtGAOwm92PRLcF2Ip10OEu3hdy+GDaXn6ZUPh+YHk0TR05dlyb7a72zIocSr9WkBD5CPXP5rJjlCl6VnYsm57Mh+PmYK91H88F6zh8zS8vEWLxVMz++gyrpQ4MTdqH497fue0dAAQweUQMp43eo0WZN/qUxkvS7sej7rqbtRP1SL/pifuiMUwNV+T9znDX5xE61tOY5rm3dH1MiyHkcjZGS9qjVkYfymt15oNemkSnPMI/JB6JsVoJ2aSJF1lju4yt54Lzt+BuY3bfjh92f02fQi8ML2O8WLz6AJe8fQnOALiEk40lt7sYMnyhPea6jWWQqTwq2D/aRdcVdeymMCxxL3NtX9JJR0qY92WefzAZ71/My773XGcSs4c9wm2uHeJObSDsAhee92ea93Em9NEqZkzEKHf5kq2/GuK1dwv/G7gFnT6tafj0KTmGY7FdYU1P1bybnSpUD6WbuMz04NJtf2JJJHbyaJJOv0/rFsNZuM4cXXFeX8opaDFxmwUfxLhj4yBHx1aNSY8OI7b5h6zZZY6hDKtSkihPHAqNzcWW4/hrmBVL130KPzsVslMnWW79DF/9MSx06kaIY6FxcPgbxj3xot8EBxl0PY3797RwPbSAiXqZ3Dy8h0VmswlvrE9nIvB5qIv19Kl4HjOmnVLhkgp2QspCiWZKhfu/EVr6veilFERKTgghMc8xNiy5j1Rduj66YIuuDFSbKRXKsJdtHFbZHlQE+Zbof9ADpegH5PiHEiMZgGExgarVLlQJFToYf0Cv/dlojjRAs7xlImUdjMf2Z/9FTUZ2a1nOilIFypShrQBIi+Oe+iIOrbVAL/0vDrt/j9nUMBq/rwt3b/BQZxzTp+3i2CCdvMsHivCMeyGhYDQdXbXihb8g5sgcjKYfkSlEQumz3VytVO5D7Y6hN84XL+9xZKIZ071jZZC9LZ/t9uKgRYeKH89Tis6I0tLS/itnB/zHybtVZ/BiCl3f9t9BEroDE+MTDPc9wWLjZuV/OdEL26NtcLbtWaM3glRIpmoiN8iFXnlKkH8tpUw/wqXXYBazCv9AW3q+a9fXvvVISLm4lG6jH7Ih1BWLdgUOo5TMK070Mr2F/Y29WJVIrMkl0WstR9vMr1l7kHIRh26zub/hHIct2r926DKvsKrXePztffnFqpTEmloZh3F4WY/gK1YRucusXNn3QYkAAANwSURBVGcX4vCy9aaN88xaGgO5JHp9g95X8FOkcy0kV1YnNdhWklB2mHyMy/CTBC42rpkwukQvrPUWw0/n2FVuYmAtjSFqY76oyFh4Te2dEykgUGfkkBARSoiqEf27NAGeEeTigMfd0hOWXjyIRaGTZg1fKVcRmQQEykOMardBmKtGE/Vv4fWXHJJi/yHe6AP6ti8t3CiTBxFiOrWp4cOOVPUZYt6U4KjEIrHd0qRYbsf3Y0zf90pZaaytcVgBXiQQoaBDm3ojUD2mBttKmhDBtRAdRvXXpTFSsoK2M8kjrJzt+JqklsZQPZ4vBCdS4D9ADilJCdCsBWoqDciJ9sEj6SPMOpUWsJBGWMBTjAwqfBFjDcokIFA+Ig1jrBZp4u11jYT8OEppehg+p+KY9s3I/ISnYmRFEZDYGYPmNXmsBiDSxMRqKh29f8E/IT8WW/qU2z4+RE6byhiD0lZwamscyoqUrLBAEo06V/yK1v8cNdtWL1OSiKIZrdSUICeK0x5PsTTrWIkjoqqB2hpD9Xi+EN6p/jMUJLbwOoP8P4MiXcbY8O0v29jnlAi5fZjj+GFevGoRpOQ+uMjBlIEs1i716OI6kKk6KUhIAbJzZQyKBiS55F3ckJ/oJldHQd0C5dAEw+kb+GH3eubPvYZRpwZEB8SgOv4HVpq2LiUm8DkPznmT8tkstGu8O0UoGk5m1w/7WDHfjhtGHRBFBxKhas5PK00LXftWQC2Mw9QruDju407uE8K9o4ENzJGeQU2uO5OdZmCsWswpyI3h3ME0PlvcpmrxlTKRzBWXVey7k8aTcH8ANsxJ54yaCl0nL8bWWL3GJagSNdxW4i5mrP72Euv3rSOBhvSZM4cPq+WMagmpV9xw3BdC7pNwvImGDfOQnlFDruvkvLyMIt+vzTFUg/NFRcdCMYSYyHee/IHhdpbLpy4RDaAziDEDPmWGDAryn+LlfbxXnUNt1vQqZL7WU1Kv4OLoiu/lC1yKzgB0GTRmMKYzlpQzKSVzxWUlbr7+nLoUBSihM+gjBpjOKsWgCrxNvIw7y6pjTZg1f1CxzNd6QL0bh9nEeW/jmNpXzK9Klvd/gv9OW9XrMVSLCE6kgICAgICAgIBAhRFiIgUEBAQEBAQEBCqM4EQKCAgICAgICAhUGMGJFBAQEBAQEBAQqDD/BweEBYtPkzPcAAAAAElFTkSuQmCC)"
      ],
      "metadata": {
        "id": "hXPFCgrYG2Zh"
      }
    },
    {
      "cell_type": "code",
      "source": [
        "policy = create_random_det_policy(env)   \n",
        "episode = generate_episode_det(env, policy) \n",
        "print(episode)\n",
        "\n",
        "for time_step in reversed(range(0, len(episode))):\n",
        "\n",
        "  S_t, A_t, R_t = episode[time_step] \n",
        "  state_action = (S_t, A_t)\n",
        "\n",
        "  if not state_action in [(x[0], x[1]) for x in episode[0:time_step]]:\n",
        "      print(\"t=\",time_step,\" pierwsza wizyta w (s,a): \",state_action)"
      ],
      "metadata": {
        "colab": {
          "base_uri": "https://localhost:8080/"
        },
        "id": "sqvIhR4AGOnQ",
        "outputId": "3cc01c2a-9435-4975-dbb5-8c6dd4686f25"
      },
      "execution_count": 90,
      "outputs": [
        {
          "output_type": "stream",
          "name": "stdout",
          "text": [
            "[[0, 2, 0.0], [1, 0, 0.0], [0, 2, 0.0], [1, 0, 0.0], [0, 2, 0.0], [1, 0, 0.0], [0, 2, 0.0], [1, 0, 0.0], [0, 2, 0.0], [1, 0, 0.0], [0, 2, 0.0], [1, 0, 0.0], [0, 2, 0.0], [1, 0, 0.0], [0, 2, 0.0], [1, 0, 0.0], [0, 2, 0.0], [1, 0, 0.0], [0, 2, 0.0], [1, 0, 0.0], [0, 2, 0.0], [1, 0, 0.0], [0, 2, 0.0], [1, 0, 0.0], [0, 2, 0.0], [1, 0, 0.0], [0, 2, 0.0], [1, 0, 0.0], [0, 2, 0.0], [1, 0, 0.0], [0, 2, 0.0], [1, 0, 0.0], [0, 2, 0.0], [1, 0, 0.0], [0, 2, 0.0], [1, 0, 0.0], [0, 2, 0.0], [1, 0, 0.0], [0, 2, 0.0], [1, 0, 0.0], [0, 2, 0.0], [1, 0, 0.0], [0, 2, 0.0], [1, 0, 0.0], [0, 2, 0.0], [1, 0, 0.0], [0, 2, 0.0], [1, 0, 0.0], [0, 2, 0.0], [1, 0, 0.0], [0, 2, 0.0], [1, 0, 0.0], [0, 2, 0.0], [1, 0, 0.0], [0, 2, 0.0], [1, 0, 0.0], [0, 2, 0.0], [1, 0, 0.0], [0, 2, 0.0], [1, 0, 0.0], [0, 2, 0.0], [1, 0, 0.0], [0, 2, 0.0], [1, 0, 0.0], [0, 2, 0.0], [1, 0, 0.0], [0, 2, 0.0], [1, 0, 0.0], [0, 2, 0.0], [1, 0, 0.0], [0, 2, 0.0], [1, 0, 0.0], [0, 2, 0.0], [1, 0, 0.0], [0, 2, 0.0], [1, 0, 0.0], [0, 2, 0.0], [1, 0, 0.0], [0, 2, 0.0], [1, 0, 0.0], [0, 2, 0.0], [1, 0, 0.0], [0, 2, 0.0], [1, 0, 0.0], [0, 2, 0.0], [1, 0, 0.0], [0, 2, 0.0], [1, 0, 0.0], [0, 2, 0.0], [1, 0, 0.0], [0, 2, 0.0], [1, 0, 0.0], [0, 2, 0.0], [1, 0, 0.0], [0, 2, 0.0], [1, 0, 0.0], [0, 2, 0.0], [1, 0, 0.0], [0, 2, 0.0], [1, 0, 0.0]]\n",
            "t= 1  pierwsza wizyta w (s,a):  (1, 0)\n",
            "t= 0  pierwsza wizyta w (s,a):  (0, 2)\n"
          ]
        }
      ]
    },
    {
      "cell_type": "markdown",
      "source": [
        "**Słownik, którego kluczami są pary (stan,akcja) tzn. (S,A) a wartościami listy zwrotów G**"
      ],
      "metadata": {
        "id": "dhPbk4Ze9Qmx"
      }
    },
    {
      "cell_type": "markdown",
      "source": [
        "![image.png](data:image/png;base64,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)"
      ],
      "metadata": {
        "id": "mT0WNkPoE07n"
      }
    },
    {
      "cell_type": "code",
      "source": [
        "Returns = {(3,2):[4,5,-1],(1,1):[2,3,6,7,1],(6,3):[2,-1,3,1]} "
      ],
      "metadata": {
        "id": "HA-R7YLs8pnv"
      },
      "execution_count": 91,
      "outputs": []
    },
    {
      "cell_type": "code",
      "source": [
        "Returns = {}\n",
        "\n",
        "Returns[(3,1)]=[3]\n",
        "print(Returns)\n",
        "\n",
        "Returns[(3,1)].append(4)\n",
        "print(Returns)\n",
        "\n",
        "Returns[(3,1)].append(8)\n",
        "print(Returns)"
      ],
      "metadata": {
        "colab": {
          "base_uri": "https://localhost:8080/"
        },
        "id": "MllKjVOZ6A3_",
        "outputId": "50dba022-bb05-4287-d3f6-ecdd4a1f3d09"
      },
      "execution_count": 92,
      "outputs": [
        {
          "output_type": "stream",
          "name": "stdout",
          "text": [
            "{(3, 1): [3]}\n",
            "{(3, 1): [3, 4]}\n",
            "{(3, 1): [3, 4, 8]}\n"
          ]
        }
      ]
    },
    {
      "cell_type": "code",
      "source": [
        "Returns[(4,2)]=[7]\n",
        "print(Returns)\n",
        "\n",
        "Returns[(4,2)].append(-4)\n",
        "print(Returns)\n",
        "\n",
        "Returns[(4,2)].append(2)\n",
        "print(Returns)"
      ],
      "metadata": {
        "colab": {
          "base_uri": "https://localhost:8080/"
        },
        "id": "zSRiknLJ8XQr",
        "outputId": "90886f84-ff7d-4832-b9cf-92c26d517604"
      },
      "execution_count": 93,
      "outputs": [
        {
          "output_type": "stream",
          "name": "stdout",
          "text": [
            "{(3, 1): [3, 4, 8], (4, 2): [7]}\n",
            "{(3, 1): [3, 4, 8], (4, 2): [7, -4]}\n",
            "{(3, 1): [3, 4, 8], (4, 2): [7, -4, 2]}\n"
          ]
        }
      ]
    },
    {
      "cell_type": "code",
      "source": [
        "#Q = np.zeros((env.nS,env.nA))\n",
        "Pi = np.zeros(env.nS)\n",
        "Returns = {}\n",
        "for u in range(10000):\n",
        "  y=1\n",
        "\n",
        "  policy = create_random_det_policy(env)   \n",
        "  episode = generate_episode_det(env, policy) \n",
        "  #print(episode)\n",
        "  G=0\n",
        "  for time_step in reversed(range(0, len(episode))):\n",
        "\n",
        "   S_t, A_t, R_t = episode[time_step] \n",
        "   state_action = (S_t, A_t)\n",
        "   G = y*G + R_t\n",
        "\n",
        " \n",
        "   if not state_action in [(x[0], x[1]) for x in episode[0:time_step]]:\n",
        "       #print(\"t=\",time_step,\" pierwsza wizyta w (s,a): \",state_action)\n",
        "       if not state_action in Returns.keys():\n",
        "        Returns[state_action]=[G]      \n",
        "       else :\n",
        "        Returns[state_action].append(G)    \n",
        "       Q[state_action] = np.average(Returns[state_action])\n",
        "       # Pi[state_action[0]] = np.argmax([state_action])\n",
        "\n",
        "       # Q[S_t][A_t] = sum(Returns[state_action]) / len(Returns[state_action]) # Average reward across episodes\n",
        "\n",
        "            # Finding the action with maximum value.\n",
        "       Q_list = list(map(lambda x: x[1], Q[S_t].items()))    \n",
        "       max_Q = np.argmax(Q_list)  \n",
        "       Pi[S_t]=max_Q"
      ],
      "metadata": {
        "id": "ONAz8JO6P3hh"
      },
      "execution_count": 149,
      "outputs": []
    },
    {
      "cell_type": "code",
      "source": [
        "Q_list"
      ],
      "metadata": {
        "colab": {
          "base_uri": "https://localhost:8080/"
        },
        "id": "6MoPWgBi4sfI",
        "outputId": "9e864232-fbf2-4bf0-f88f-51a3ae2e74b3"
      },
      "execution_count": 142,
      "outputs": [
        {
          "output_type": "execute_result",
          "data": {
            "text/plain": [
              "[0.0, 0.0024459845087647777, 0.0003961965134706815, 0.0]"
            ]
          },
          "metadata": {},
          "execution_count": 142
        }
      ]
    },
    {
      "cell_type": "code",
      "source": [
        "Returns"
      ],
      "metadata": {
        "id": "A0vZ8Xfn2io0"
      },
      "execution_count": null,
      "outputs": []
    },
    {
      "cell_type": "code",
      "source": [
        "Q"
      ],
      "metadata": {
        "colab": {
          "base_uri": "https://localhost:8080/"
        },
        "id": "uY3Jnpv42YrK",
        "outputId": "076e6106-e821-4336-c960-bc3990961e92"
      },
      "execution_count": 97,
      "outputs": [
        {
          "output_type": "execute_result",
          "data": {
            "text/plain": [
              "array([[0.        , 0.0011957 , 0.00197006, 0.        ],\n",
              "       [0.        , 0.        , 0.00777605, 0.        ],\n",
              "       [0.        , 0.02840909, 0.        , 0.        ],\n",
              "       [0.        , 0.        , 0.        , 0.        ],\n",
              "       [0.        , 0.00505902, 0.        , 0.        ],\n",
              "       [0.        , 0.        , 0.        , 0.        ],\n",
              "       [0.        , 0.09433962, 0.        , 0.        ],\n",
              "       [0.        , 0.        , 0.        , 0.        ],\n",
              "       [0.        , 0.        , 0.0234375 , 0.        ],\n",
              "       [0.        , 0.04166667, 0.06451613, 0.        ],\n",
              "       [0.        , 0.31818182, 0.        , 0.        ],\n",
              "       [0.        , 0.        , 0.        , 0.        ],\n",
              "       [0.        , 0.        , 0.        , 0.        ],\n",
              "       [0.        , 0.        , 0.25      , 0.        ],\n",
              "       [0.        , 0.        , 1.        , 0.        ],\n",
              "       [0.        , 0.        , 0.        , 0.        ]])"
            ]
          },
          "metadata": {},
          "execution_count": 97
        }
      ]
    },
    {
      "cell_type": "code",
      "source": [
        "Pi"
      ],
      "metadata": {
        "colab": {
          "base_uri": "https://localhost:8080/"
        },
        "id": "MYFWECEM8G2-",
        "outputId": "2d57f2ea-6ffe-40ca-d34b-3ef892258848"
      },
      "execution_count": 145,
      "outputs": [
        {
          "output_type": "execute_result",
          "data": {
            "text/plain": [
              "array([1., 2., 1., 0., 1., 0., 1., 0., 2., 2., 1., 0., 0., 2., 2., 0.])"
            ]
          },
          "metadata": {},
          "execution_count": 145
        }
      ]
    },
    {
      "cell_type": "code",
      "source": [
        "from plot_utils import plot_values\n",
        "plot_values(Pi)"
      ],
      "metadata": {
        "colab": {
          "base_uri": "https://localhost:8080/",
          "height": 390
        },
        "id": "2qBHQxZExeqQ",
        "outputId": "34b235c3-14c1-49f6-cb28-7ae02e5022b7"
      },
      "execution_count": 151,
      "outputs": [
        {
          "output_type": "display_data",
          "data": {
            "text/plain": [
              "<Figure size 432x432 with 1 Axes>"
            ],
            "image/png": "[encoded data removed]"
          },
          "metadata": {
            "needs_background": "light"
          }
        }
      ]
    }
  ]
}