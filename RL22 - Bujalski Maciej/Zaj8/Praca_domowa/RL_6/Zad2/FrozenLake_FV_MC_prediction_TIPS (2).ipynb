{
  "nbformat": 4,
  "nbformat_minor": 0,
  "metadata": {
    "colab": {
      "name": "FrozenLake_FV_MC_prediction_TIPS.ipynb",
      "provenance": [],
      "collapsed_sections": []
    },
    "kernelspec": {
      "name": "python3",
      "display_name": "Python 3"
    }
  },
  "cells": [
    {
      "cell_type": "code",
      "metadata": {
        "id": "GKDSwKjNNDc7"
      },
      "source": [
        "import gym\n",
        "import numpy as np\n",
        "import random\n",
        "\n",
        "env = gym.make(\"FrozenLake-v0\", map_name='4x4', is_slippery=False)"
      ],
      "execution_count": null,
      "outputs": []
    },
    {
      "cell_type": "markdown",
      "metadata": {
        "id": "0DUqajgJX0Dp"
      },
      "source": [
        "Funkcja generująca politykę stochastyczną:"
      ]
    },
    {
      "cell_type": "code",
      "metadata": {
        "id": "kr3ypoNnW3NF"
      },
      "source": [
        "def create_random_sto_policy(env):\n",
        "    policy = {}\n",
        "    for key in range(0, env.observation_space.n):\n",
        "        p = {}\n",
        "        for action in range(0, env.action_space.n):\n",
        "            p[action] = 1 / env.action_space.n\n",
        "        policy[key] = p\n",
        "    return policy"
      ],
      "execution_count": null,
      "outputs": []
    },
    {
      "cell_type": "markdown",
      "metadata": {
        "id": "80q98XaWX4g4"
      },
      "source": [
        "Testujemy:"
      ]
    },
    {
      "cell_type": "code",
      "metadata": {
        "colab": {
          "base_uri": "https://localhost:8080/"
        },
        "id": "BHyjA_xwW5zU",
        "outputId": "2718a947-1768-43d7-b759-4c0c383ba529"
      },
      "source": [
        "policy = create_random_sto_policy(env)\n",
        "policy"
      ],
      "execution_count": null,
      "outputs": [
        {
          "output_type": "execute_result",
          "data": {
            "text/plain": [
              "{0: {0: 0.25, 1: 0.25, 2: 0.25, 3: 0.25},\n",
              " 1: {0: 0.25, 1: 0.25, 2: 0.25, 3: 0.25},\n",
              " 2: {0: 0.25, 1: 0.25, 2: 0.25, 3: 0.25},\n",
              " 3: {0: 0.25, 1: 0.25, 2: 0.25, 3: 0.25},\n",
              " 4: {0: 0.25, 1: 0.25, 2: 0.25, 3: 0.25},\n",
              " 5: {0: 0.25, 1: 0.25, 2: 0.25, 3: 0.25},\n",
              " 6: {0: 0.25, 1: 0.25, 2: 0.25, 3: 0.25},\n",
              " 7: {0: 0.25, 1: 0.25, 2: 0.25, 3: 0.25},\n",
              " 8: {0: 0.25, 1: 0.25, 2: 0.25, 3: 0.25},\n",
              " 9: {0: 0.25, 1: 0.25, 2: 0.25, 3: 0.25},\n",
              " 10: {0: 0.25, 1: 0.25, 2: 0.25, 3: 0.25},\n",
              " 11: {0: 0.25, 1: 0.25, 2: 0.25, 3: 0.25},\n",
              " 12: {0: 0.25, 1: 0.25, 2: 0.25, 3: 0.25},\n",
              " 13: {0: 0.25, 1: 0.25, 2: 0.25, 3: 0.25},\n",
              " 14: {0: 0.25, 1: 0.25, 2: 0.25, 3: 0.25},\n",
              " 15: {0: 0.25, 1: 0.25, 2: 0.25, 3: 0.25}}"
            ]
          },
          "metadata": {},
          "execution_count": 3
        }
      ]
    },
    {
      "cell_type": "markdown",
      "metadata": {
        "id": "Jn6ibE7ZX78N"
      },
      "source": [
        "Funkcja generująca epizod:"
      ]
    },
    {
      "cell_type": "code",
      "metadata": {
        "id": "eXRDsW7lXCjc"
      },
      "source": [
        "def generate_episode(env, policy):\n",
        "    env.reset()\n",
        "    episode = []\n",
        "    finished = False\n",
        "\n",
        "    while not finished:\n",
        "        s = env.s  \n",
        "\n",
        "        timestep = []\n",
        "        timestep.append(s)\n",
        "        \n",
        "        n = random.uniform(0, sum(policy[s].values()))\n",
        "        \n",
        "        top_range = 0\n",
        "        for prob in policy[s].items():\n",
        "            top_range += prob[1]\n",
        "            if n < top_range:\n",
        "                action = prob[0]\n",
        "                break\n",
        "        \n",
        "        #observation, reward, done, info\n",
        "        _, reward, finished, _ = env.step(action)\n",
        "        \n",
        "        timestep.append(action)\n",
        "        timestep.append(reward)\n",
        "\n",
        "        episode.append(timestep)\n",
        "        \n",
        "    return episode"
      ],
      "execution_count": null,
      "outputs": []
    },
    {
      "cell_type": "markdown",
      "metadata": {
        "id": "XJrj5L1aYAme"
      },
      "source": [
        "Testujemy:"
      ]
    },
    {
      "cell_type": "code",
      "metadata": {
        "colab": {
          "base_uri": "https://localhost:8080/"
        },
        "id": "yt3hqnfXXQGm",
        "outputId": "cebb293f-7c85-4fbe-bbfd-56f155b2118f"
      },
      "source": [
        "print(\"LEFT = 0 DOWN = 1 RIGHT = 2 UP = 3\")\n",
        "for i in range(100):\n",
        "  print(\"Epizod \",i,\": \",generate_episode(env, policy))"
      ],
      "execution_count": null,
      "outputs": [
        {
          "output_type": "stream",
          "name": "stdout",
          "text": [
            "LEFT = 0 DOWN = 1 RIGHT = 2 UP = 3\n",
            "Epizod  0 :  [[0, 0, 0.0], [0, 0, 0.0], [0, 1, 0.0], [4, 3, 0.0], [0, 3, 0.0], [0, 3, 0.0], [0, 0, 0.0], [0, 3, 0.0], [0, 2, 0.0], [1, 3, 0.0], [1, 0, 0.0], [0, 1, 0.0], [4, 3, 0.0], [0, 0, 0.0], [0, 2, 0.0], [1, 1, 0.0]]\n",
            "Epizod  1 :  [[0, 0, 0.0], [0, 3, 0.0], [0, 3, 0.0], [0, 0, 0.0], [0, 1, 0.0], [4, 0, 0.0], [4, 0, 0.0], [4, 2, 0.0]]\n",
            "Epizod  2 :  [[0, 0, 0.0], [0, 1, 0.0], [4, 1, 0.0], [8, 3, 0.0], [4, 2, 0.0]]\n",
            "Epizod  3 :  [[0, 0, 0.0], [0, 1, 0.0], [4, 2, 0.0]]\n",
            "Epizod  4 :  [[0, 2, 0.0], [1, 2, 0.0], [2, 1, 0.0], [6, 3, 0.0], [2, 1, 0.0], [6, 3, 0.0], [2, 1, 0.0], [6, 3, 0.0], [2, 2, 0.0], [3, 2, 0.0], [3, 2, 0.0], [3, 3, 0.0], [3, 1, 0.0]]\n",
            "Epizod  5 :  [[0, 2, 0.0], [1, 1, 0.0]]\n",
            "Epizod  6 :  [[0, 2, 0.0], [1, 3, 0.0], [1, 2, 0.0], [2, 0, 0.0], [1, 2, 0.0], [2, 2, 0.0], [3, 2, 0.0], [3, 2, 0.0], [3, 1, 0.0]]\n",
            "Epizod  7 :  [[0, 0, 0.0], [0, 1, 0.0], [4, 1, 0.0], [8, 3, 0.0], [4, 2, 0.0]]\n",
            "Epizod  8 :  [[0, 3, 0.0], [0, 1, 0.0], [4, 1, 0.0], [8, 3, 0.0], [4, 0, 0.0], [4, 0, 0.0], [4, 2, 0.0]]\n",
            "Epizod  9 :  [[0, 3, 0.0], [0, 3, 0.0], [0, 0, 0.0], [0, 3, 0.0], [0, 3, 0.0], [0, 3, 0.0], [0, 1, 0.0], [4, 2, 0.0]]\n",
            "Epizod  10 :  [[0, 2, 0.0], [1, 0, 0.0], [0, 2, 0.0], [1, 0, 0.0], [0, 0, 0.0], [0, 2, 0.0], [1, 2, 0.0], [2, 3, 0.0], [2, 1, 0.0], [6, 0, 0.0]]\n",
            "Epizod  11 :  [[0, 3, 0.0], [0, 2, 0.0], [1, 1, 0.0]]\n",
            "Epizod  12 :  [[0, 1, 0.0], [4, 0, 0.0], [4, 0, 0.0], [4, 3, 0.0], [0, 3, 0.0], [0, 3, 0.0], [0, 1, 0.0], [4, 3, 0.0], [0, 1, 0.0], [4, 1, 0.0], [8, 0, 0.0], [8, 0, 0.0], [8, 0, 0.0], [8, 0, 0.0], [8, 1, 0.0]]\n",
            "Epizod  13 :  [[0, 1, 0.0], [4, 2, 0.0]]\n",
            "Epizod  14 :  [[0, 2, 0.0], [1, 1, 0.0]]\n",
            "Epizod  15 :  [[0, 0, 0.0], [0, 3, 0.0], [0, 1, 0.0], [4, 2, 0.0]]\n",
            "Epizod  16 :  [[0, 1, 0.0], [4, 3, 0.0], [0, 3, 0.0], [0, 3, 0.0], [0, 3, 0.0], [0, 1, 0.0], [4, 0, 0.0], [4, 1, 0.0], [8, 0, 0.0], [8, 1, 0.0]]\n",
            "Epizod  17 :  [[0, 3, 0.0], [0, 3, 0.0], [0, 0, 0.0], [0, 1, 0.0], [4, 2, 0.0]]\n",
            "Epizod  18 :  [[0, 3, 0.0], [0, 3, 0.0], [0, 0, 0.0], [0, 0, 0.0], [0, 0, 0.0], [0, 1, 0.0], [4, 2, 0.0]]\n",
            "Epizod  19 :  [[0, 0, 0.0], [0, 3, 0.0], [0, 0, 0.0], [0, 2, 0.0], [1, 0, 0.0], [0, 0, 0.0], [0, 3, 0.0], [0, 0, 0.0], [0, 0, 0.0], [0, 3, 0.0], [0, 3, 0.0], [0, 0, 0.0], [0, 2, 0.0], [1, 1, 0.0]]\n",
            "Epizod  20 :  [[0, 1, 0.0], [4, 2, 0.0]]\n",
            "Epizod  21 :  [[0, 3, 0.0], [0, 2, 0.0], [1, 2, 0.0], [2, 3, 0.0], [2, 2, 0.0], [3, 1, 0.0]]\n",
            "Epizod  22 :  [[0, 2, 0.0], [1, 2, 0.0], [2, 0, 0.0], [1, 1, 0.0]]\n",
            "Epizod  23 :  [[0, 0, 0.0], [0, 3, 0.0], [0, 0, 0.0], [0, 0, 0.0], [0, 2, 0.0], [1, 0, 0.0], [0, 3, 0.0], [0, 0, 0.0], [0, 0, 0.0], [0, 0, 0.0], [0, 2, 0.0], [1, 2, 0.0], [2, 1, 0.0], [6, 0, 0.0]]\n",
            "Epizod  24 :  [[0, 3, 0.0], [0, 3, 0.0], [0, 1, 0.0], [4, 2, 0.0]]\n",
            "Epizod  25 :  [[0, 3, 0.0], [0, 0, 0.0], [0, 2, 0.0], [1, 0, 0.0], [0, 0, 0.0], [0, 0, 0.0], [0, 3, 0.0], [0, 1, 0.0], [4, 1, 0.0], [8, 1, 0.0]]\n",
            "Epizod  26 :  [[0, 2, 0.0], [1, 0, 0.0], [0, 0, 0.0], [0, 0, 0.0], [0, 1, 0.0], [4, 2, 0.0]]\n",
            "Epizod  27 :  [[0, 1, 0.0], [4, 3, 0.0], [0, 1, 0.0], [4, 2, 0.0]]\n",
            "Epizod  28 :  [[0, 1, 0.0], [4, 0, 0.0], [4, 1, 0.0], [8, 3, 0.0], [4, 1, 0.0], [8, 3, 0.0], [4, 1, 0.0], [8, 3, 0.0], [4, 1, 0.0], [8, 1, 0.0]]\n",
            "Epizod  29 :  [[0, 3, 0.0], [0, 2, 0.0], [1, 2, 0.0], [2, 2, 0.0], [3, 1, 0.0]]\n",
            "Epizod  30 :  [[0, 0, 0.0], [0, 3, 0.0], [0, 3, 0.0], [0, 3, 0.0], [0, 1, 0.0], [4, 2, 0.0]]\n",
            "Epizod  31 :  [[0, 3, 0.0], [0, 1, 0.0], [4, 3, 0.0], [0, 3, 0.0], [0, 3, 0.0], [0, 1, 0.0], [4, 2, 0.0]]\n",
            "Epizod  32 :  [[0, 1, 0.0], [4, 2, 0.0]]\n",
            "Epizod  33 :  [[0, 1, 0.0], [4, 0, 0.0], [4, 2, 0.0]]\n",
            "Epizod  34 :  [[0, 3, 0.0], [0, 0, 0.0], [0, 0, 0.0], [0, 3, 0.0], [0, 3, 0.0], [0, 3, 0.0], [0, 3, 0.0], [0, 1, 0.0], [4, 2, 0.0]]\n",
            "Epizod  35 :  [[0, 2, 0.0], [1, 1, 0.0]]\n",
            "Epizod  36 :  [[0, 3, 0.0], [0, 0, 0.0], [0, 2, 0.0], [1, 2, 0.0], [2, 1, 0.0], [6, 0, 0.0]]\n",
            "Epizod  37 :  [[0, 1, 0.0], [4, 0, 0.0], [4, 0, 0.0], [4, 1, 0.0], [8, 2, 0.0], [9, 2, 0.0], [10, 0, 0.0], [9, 3, 0.0]]\n",
            "Epizod  38 :  [[0, 1, 0.0], [4, 3, 0.0], [0, 0, 0.0], [0, 3, 0.0], [0, 2, 0.0], [1, 2, 0.0], [2, 0, 0.0], [1, 2, 0.0], [2, 1, 0.0], [6, 2, 0.0]]\n",
            "Epizod  39 :  [[0, 3, 0.0], [0, 3, 0.0], [0, 3, 0.0], [0, 2, 0.0], [1, 2, 0.0], [2, 0, 0.0], [1, 1, 0.0]]\n",
            "Epizod  40 :  [[0, 1, 0.0], [4, 0, 0.0], [4, 3, 0.0], [0, 3, 0.0], [0, 1, 0.0], [4, 2, 0.0]]\n",
            "Epizod  41 :  [[0, 2, 0.0], [1, 1, 0.0]]\n",
            "Epizod  42 :  [[0, 1, 0.0], [4, 2, 0.0]]\n",
            "Epizod  43 :  [[0, 0, 0.0], [0, 2, 0.0], [1, 0, 0.0], [0, 1, 0.0], [4, 2, 0.0]]\n",
            "Epizod  44 :  [[0, 0, 0.0], [0, 2, 0.0], [1, 1, 0.0]]\n",
            "Epizod  45 :  [[0, 3, 0.0], [0, 3, 0.0], [0, 1, 0.0], [4, 1, 0.0], [8, 1, 0.0]]\n",
            "Epizod  46 :  [[0, 2, 0.0], [1, 1, 0.0]]\n",
            "Epizod  47 :  [[0, 3, 0.0], [0, 0, 0.0], [0, 3, 0.0], [0, 0, 0.0], [0, 3, 0.0], [0, 3, 0.0], [0, 3, 0.0], [0, 0, 0.0], [0, 3, 0.0], [0, 3, 0.0], [0, 2, 0.0], [1, 2, 0.0], [2, 1, 0.0], [6, 1, 0.0], [10, 2, 0.0]]\n",
            "Epizod  48 :  [[0, 3, 0.0], [0, 2, 0.0], [1, 3, 0.0], [1, 2, 0.0], [2, 3, 0.0], [2, 3, 0.0], [2, 2, 0.0], [3, 0, 0.0], [2, 1, 0.0], [6, 1, 0.0], [10, 2, 0.0]]\n",
            "Epizod  49 :  [[0, 1, 0.0], [4, 0, 0.0], [4, 0, 0.0], [4, 2, 0.0]]\n",
            "Epizod  50 :  [[0, 0, 0.0], [0, 2, 0.0], [1, 1, 0.0]]\n",
            "Epizod  51 :  [[0, 0, 0.0], [0, 0, 0.0], [0, 2, 0.0], [1, 1, 0.0]]\n",
            "Epizod  52 :  [[0, 2, 0.0], [1, 1, 0.0]]\n",
            "Epizod  53 :  [[0, 3, 0.0], [0, 2, 0.0], [1, 0, 0.0], [0, 2, 0.0], [1, 0, 0.0], [0, 0, 0.0], [0, 2, 0.0], [1, 2, 0.0], [2, 3, 0.0], [2, 2, 0.0], [3, 1, 0.0]]\n",
            "Epizod  54 :  [[0, 3, 0.0], [0, 0, 0.0], [0, 0, 0.0], [0, 3, 0.0], [0, 1, 0.0], [4, 2, 0.0]]\n",
            "Epizod  55 :  [[0, 3, 0.0], [0, 3, 0.0], [0, 0, 0.0], [0, 0, 0.0], [0, 1, 0.0], [4, 2, 0.0]]\n",
            "Epizod  56 :  [[0, 0, 0.0], [0, 0, 0.0], [0, 1, 0.0], [4, 3, 0.0], [0, 2, 0.0], [1, 1, 0.0]]\n",
            "Epizod  57 :  [[0, 2, 0.0], [1, 3, 0.0], [1, 0, 0.0], [0, 0, 0.0], [0, 2, 0.0], [1, 0, 0.0], [0, 0, 0.0], [0, 3, 0.0], [0, 2, 0.0], [1, 1, 0.0]]\n",
            "Epizod  58 :  [[0, 2, 0.0], [1, 0, 0.0], [0, 3, 0.0], [0, 0, 0.0], [0, 1, 0.0], [4, 2, 0.0]]\n",
            "Epizod  59 :  [[0, 1, 0.0], [4, 2, 0.0]]\n",
            "Epizod  60 :  [[0, 1, 0.0], [4, 3, 0.0], [0, 2, 0.0], [1, 2, 0.0], [2, 2, 0.0], [3, 1, 0.0]]\n",
            "Epizod  61 :  [[0, 0, 0.0], [0, 3, 0.0], [0, 1, 0.0], [4, 2, 0.0]]\n",
            "Epizod  62 :  [[0, 1, 0.0], [4, 2, 0.0]]\n",
            "Epizod  63 :  [[0, 0, 0.0], [0, 1, 0.0], [4, 2, 0.0]]\n",
            "Epizod  64 :  [[0, 0, 0.0], [0, 3, 0.0], [0, 0, 0.0], [0, 0, 0.0], [0, 3, 0.0], [0, 0, 0.0], [0, 0, 0.0], [0, 3, 0.0], [0, 2, 0.0], [1, 0, 0.0], [0, 0, 0.0], [0, 1, 0.0], [4, 1, 0.0], [8, 2, 0.0], [9, 0, 0.0], [8, 3, 0.0], [4, 2, 0.0]]\n",
            "Epizod  65 :  [[0, 3, 0.0], [0, 1, 0.0], [4, 0, 0.0], [4, 3, 0.0], [0, 2, 0.0], [1, 2, 0.0], [2, 3, 0.0], [2, 0, 0.0], [1, 3, 0.0], [1, 2, 0.0], [2, 1, 0.0], [6, 3, 0.0], [2, 1, 0.0], [6, 2, 0.0]]\n",
            "Epizod  66 :  [[0, 1, 0.0], [4, 1, 0.0], [8, 3, 0.0], [4, 2, 0.0]]\n",
            "Epizod  67 :  [[0, 3, 0.0], [0, 1, 0.0], [4, 3, 0.0], [0, 0, 0.0], [0, 2, 0.0], [1, 0, 0.0], [0, 0, 0.0], [0, 2, 0.0], [1, 1, 0.0]]\n",
            "Epizod  68 :  [[0, 2, 0.0], [1, 2, 0.0], [2, 0, 0.0], [1, 2, 0.0], [2, 1, 0.0], [6, 1, 0.0], [10, 0, 0.0], [9, 0, 0.0], [8, 1, 0.0]]\n",
            "Epizod  69 :  [[0, 1, 0.0], [4, 3, 0.0], [0, 1, 0.0], [4, 0, 0.0], [4, 0, 0.0], [4, 3, 0.0], [0, 2, 0.0], [1, 0, 0.0], [0, 3, 0.0], [0, 2, 0.0], [1, 0, 0.0], [0, 2, 0.0], [1, 2, 0.0], [2, 1, 0.0], [6, 3, 0.0], [2, 2, 0.0], [3, 0, 0.0], [2, 1, 0.0], [6, 1, 0.0], [10, 1, 0.0], [14, 0, 0.0], [13, 0, 0.0]]\n",
            "Epizod  70 :  [[0, 3, 0.0], [0, 1, 0.0], [4, 1, 0.0], [8, 0, 0.0], [8, 1, 0.0]]\n",
            "Epizod  71 :  [[0, 2, 0.0], [1, 1, 0.0]]\n",
            "Epizod  72 :  [[0, 3, 0.0], [0, 0, 0.0], [0, 0, 0.0], [0, 0, 0.0], [0, 2, 0.0], [1, 2, 0.0], [2, 2, 0.0], [3, 1, 0.0]]\n",
            "Epizod  73 :  [[0, 1, 0.0], [4, 3, 0.0], [0, 0, 0.0], [0, 1, 0.0], [4, 2, 0.0]]\n",
            "Epizod  74 :  [[0, 0, 0.0], [0, 0, 0.0], [0, 1, 0.0], [4, 2, 0.0]]\n",
            "Epizod  75 :  [[0, 2, 0.0], [1, 0, 0.0], [0, 0, 0.0], [0, 1, 0.0], [4, 1, 0.0], [8, 0, 0.0], [8, 2, 0.0], [9, 1, 0.0], [13, 2, 0.0], [14, 0, 0.0], [13, 2, 0.0], [14, 2, 1.0]]\n",
            "Epizod  76 :  [[0, 0, 0.0], [0, 3, 0.0], [0, 0, 0.0], [0, 1, 0.0], [4, 0, 0.0], [4, 0, 0.0], [4, 0, 0.0], [4, 2, 0.0]]\n",
            "Epizod  77 :  [[0, 1, 0.0], [4, 2, 0.0]]\n",
            "Epizod  78 :  [[0, 1, 0.0], [4, 1, 0.0], [8, 3, 0.0], [4, 0, 0.0], [4, 1, 0.0], [8, 3, 0.0], [4, 2, 0.0]]\n",
            "Epizod  79 :  [[0, 2, 0.0], [1, 2, 0.0], [2, 1, 0.0], [6, 3, 0.0], [2, 1, 0.0], [6, 0, 0.0]]\n",
            "Epizod  80 :  [[0, 0, 0.0], [0, 1, 0.0], [4, 0, 0.0], [4, 2, 0.0]]\n",
            "Epizod  81 :  [[0, 1, 0.0], [4, 3, 0.0], [0, 0, 0.0], [0, 1, 0.0], [4, 3, 0.0], [0, 0, 0.0], [0, 1, 0.0], [4, 0, 0.0], [4, 1, 0.0], [8, 0, 0.0], [8, 3, 0.0], [4, 3, 0.0], [0, 1, 0.0], [4, 1, 0.0], [8, 2, 0.0], [9, 0, 0.0], [8, 0, 0.0], [8, 0, 0.0], [8, 2, 0.0], [9, 1, 0.0], [13, 3, 0.0], [9, 1, 0.0], [13, 3, 0.0], [9, 3, 0.0]]\n",
            "Epizod  82 :  [[0, 0, 0.0], [0, 2, 0.0], [1, 3, 0.0], [1, 2, 0.0], [2, 3, 0.0], [2, 2, 0.0], [3, 3, 0.0], [3, 1, 0.0]]\n",
            "Epizod  83 :  [[0, 3, 0.0], [0, 2, 0.0], [1, 0, 0.0], [0, 1, 0.0], [4, 0, 0.0], [4, 0, 0.0], [4, 3, 0.0], [0, 0, 0.0], [0, 2, 0.0], [1, 2, 0.0], [2, 0, 0.0], [1, 1, 0.0]]\n",
            "Epizod  84 :  [[0, 3, 0.0], [0, 0, 0.0], [0, 2, 0.0], [1, 0, 0.0], [0, 1, 0.0], [4, 1, 0.0], [8, 2, 0.0], [9, 2, 0.0], [10, 2, 0.0]]\n",
            "Epizod  85 :  [[0, 2, 0.0], [1, 1, 0.0]]\n",
            "Epizod  86 :  [[0, 3, 0.0], [0, 0, 0.0], [0, 0, 0.0], [0, 2, 0.0], [1, 2, 0.0], [2, 1, 0.0], [6, 1, 0.0], [10, 0, 0.0], [9, 3, 0.0]]\n",
            "Epizod  87 :  [[0, 1, 0.0], [4, 3, 0.0], [0, 3, 0.0], [0, 1, 0.0], [4, 1, 0.0], [8, 0, 0.0], [8, 0, 0.0], [8, 3, 0.0], [4, 3, 0.0], [0, 3, 0.0], [0, 1, 0.0], [4, 3, 0.0], [0, 0, 0.0], [0, 3, 0.0], [0, 3, 0.0], [0, 1, 0.0], [4, 2, 0.0]]\n",
            "Epizod  88 :  [[0, 0, 0.0], [0, 0, 0.0], [0, 3, 0.0], [0, 0, 0.0], [0, 1, 0.0], [4, 3, 0.0], [0, 0, 0.0], [0, 1, 0.0], [4, 3, 0.0], [0, 3, 0.0], [0, 1, 0.0], [4, 1, 0.0], [8, 0, 0.0], [8, 3, 0.0], [4, 0, 0.0], [4, 1, 0.0], [8, 2, 0.0], [9, 1, 0.0], [13, 3, 0.0], [9, 2, 0.0], [10, 1, 0.0], [14, 2, 1.0]]\n",
            "Epizod  89 :  [[0, 0, 0.0], [0, 3, 0.0], [0, 0, 0.0], [0, 2, 0.0], [1, 0, 0.0], [0, 3, 0.0], [0, 1, 0.0], [4, 2, 0.0]]\n",
            "Epizod  90 :  [[0, 0, 0.0], [0, 1, 0.0], [4, 1, 0.0], [8, 3, 0.0], [4, 2, 0.0]]\n",
            "Epizod  91 :  [[0, 3, 0.0], [0, 2, 0.0], [1, 2, 0.0], [2, 0, 0.0], [1, 0, 0.0], [0, 1, 0.0], [4, 2, 0.0]]\n",
            "Epizod  92 :  [[0, 1, 0.0], [4, 1, 0.0], [8, 2, 0.0], [9, 3, 0.0]]\n",
            "Epizod  93 :  [[0, 0, 0.0], [0, 3, 0.0], [0, 2, 0.0], [1, 1, 0.0]]\n",
            "Epizod  94 :  [[0, 3, 0.0], [0, 3, 0.0], [0, 0, 0.0], [0, 2, 0.0], [1, 2, 0.0], [2, 3, 0.0], [2, 3, 0.0], [2, 1, 0.0], [6, 1, 0.0], [10, 0, 0.0], [9, 1, 0.0], [13, 0, 0.0]]\n",
            "Epizod  95 :  [[0, 2, 0.0], [1, 0, 0.0], [0, 2, 0.0], [1, 1, 0.0]]\n",
            "Epizod  96 :  [[0, 1, 0.0], [4, 3, 0.0], [0, 2, 0.0], [1, 3, 0.0], [1, 3, 0.0], [1, 3, 0.0], [1, 2, 0.0], [2, 2, 0.0], [3, 3, 0.0], [3, 1, 0.0]]\n",
            "Epizod  97 :  [[0, 3, 0.0], [0, 3, 0.0], [0, 0, 0.0], [0, 1, 0.0], [4, 0, 0.0], [4, 0, 0.0], [4, 0, 0.0], [4, 2, 0.0]]\n",
            "Epizod  98 :  [[0, 0, 0.0], [0, 2, 0.0], [1, 2, 0.0], [2, 2, 0.0], [3, 0, 0.0], [2, 2, 0.0], [3, 0, 0.0], [2, 1, 0.0], [6, 2, 0.0]]\n",
            "Epizod  99 :  [[0, 3, 0.0], [0, 2, 0.0], [1, 0, 0.0], [0, 0, 0.0], [0, 0, 0.0], [0, 0, 0.0], [0, 2, 0.0], [1, 3, 0.0], [1, 1, 0.0]]\n"
          ]
        }
      ]
    },
    {
      "cell_type": "markdown",
      "source": [
        "**Przeglądanie epizodu od końca**"
      ],
      "metadata": {
        "id": "_pRHYbso4xTg"
      }
    },
    {
      "cell_type": "markdown",
      "source": [
        "![image.png](data:image/png;base64,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)"
      ],
      "metadata": {
        "id": "jN-rGVGb9s1r"
      }
    },
    {
      "cell_type": "code",
      "metadata": {
        "id": "1yH8nqeaRtep",
        "colab": {
          "base_uri": "https://localhost:8080/"
        },
        "outputId": "a95d1169-f6f2-4eb5-dbeb-2ee8fa6a124e"
      },
      "source": [
        "policy = create_random_sto_policy(env)   \n",
        "episode = generate_episode(env, policy) \n",
        "print(episode)\n",
        "\n",
        "for i in reversed(range(0, len(episode))):\n",
        "    S_t, A_t, R_t = episode[i]\n",
        "    print(S_t,\" \",A_t,\" \",R_t)"
      ],
      "execution_count": null,
      "outputs": [
        {
          "output_type": "stream",
          "name": "stdout",
          "text": [
            "[[0, 2, 0.0], [1, 0, 0.0], [0, 0, 0.0], [0, 2, 0.0], [1, 2, 0.0], [2, 3, 0.0], [2, 3, 0.0], [2, 3, 0.0], [2, 0, 0.0], [1, 0, 0.0], [0, 3, 0.0], [0, 1, 0.0], [4, 0, 0.0], [4, 3, 0.0], [0, 3, 0.0], [0, 2, 0.0], [1, 2, 0.0], [2, 3, 0.0], [2, 2, 0.0], [3, 0, 0.0], [2, 0, 0.0], [1, 0, 0.0], [0, 2, 0.0], [1, 2, 0.0], [2, 1, 0.0], [6, 3, 0.0], [2, 3, 0.0], [2, 0, 0.0], [1, 1, 0.0]]\n",
            "1   1   0.0\n",
            "2   0   0.0\n",
            "2   3   0.0\n",
            "6   3   0.0\n",
            "2   1   0.0\n",
            "1   2   0.0\n",
            "0   2   0.0\n",
            "1   0   0.0\n",
            "2   0   0.0\n",
            "3   0   0.0\n",
            "2   2   0.0\n",
            "2   3   0.0\n",
            "1   2   0.0\n",
            "0   2   0.0\n",
            "0   3   0.0\n",
            "4   3   0.0\n",
            "4   0   0.0\n",
            "0   1   0.0\n",
            "0   3   0.0\n",
            "1   0   0.0\n",
            "2   0   0.0\n",
            "2   3   0.0\n",
            "2   3   0.0\n",
            "2   3   0.0\n",
            "1   2   0.0\n",
            "0   2   0.0\n",
            "0   0   0.0\n",
            "1   0   0.0\n",
            "0   2   0.0\n"
          ]
        }
      ]
    },
    {
      "cell_type": "markdown",
      "source": [
        "**Czy pierwsza wizyta w danym stanie?**"
      ],
      "metadata": {
        "id": "S08mimWR5O7Z"
      }
    },
    {
      "cell_type": "markdown",
      "source": [
        "![image.png](data:image/png;base64,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)"
      ],
      "metadata": {
        "id": "8RlMFgLn91GX"
      }
    },
    {
      "cell_type": "code",
      "source": [
        "policy = create_random_sto_policy(env)   \n",
        "episode = generate_episode(env, policy) \n",
        "print(episode)\n",
        "\n",
        "for time_step in reversed(range(0, len(episode))):\n",
        "\n",
        "  state = episode[time_step][0]\n",
        "\n",
        "  if not state in [x[0] for x in episode[0:time_step]]:\n",
        "    print(\"t=\",time_step,\" pierwsza wizyta w stanie: \",state)"
      ],
      "metadata": {
        "colab": {
          "base_uri": "https://localhost:8080/"
        },
        "id": "CcM6l8HP5S-z",
        "outputId": "379c7afc-fd34-4b7b-fabd-c321da6d4155"
      },
      "execution_count": null,
      "outputs": [
        {
          "output_type": "stream",
          "name": "stdout",
          "text": [
            "[[0, 1, 0.0], [4, 1, 0.0], [8, 1, 0.0]]\n",
            "t= 2  pierwsza wizyta w stanie:  8\n",
            "t= 1  pierwsza wizyta w stanie:  4\n",
            "t= 0  pierwsza wizyta w stanie:  0\n"
          ]
        }
      ]
    },
    {
      "cell_type": "markdown",
      "source": [
        "Słowniki (https://oprojektowaniu.pl/python-dla-inzynierow-slowniki/)"
      ],
      "metadata": {
        "id": "77PnIQZV6Bqu"
      }
    },
    {
      "cell_type": "code",
      "source": [
        "moj_slownik = {'klucz1': 'wartosc1', 'klucz2': 'wartosc2'}"
      ],
      "metadata": {
        "id": "7cV12JV17rz9"
      },
      "execution_count": null,
      "outputs": []
    },
    {
      "cell_type": "markdown",
      "source": [
        "\\**Słownik, którego kluczami są stany S, a wartościami listy zwrotów G**"
      ],
      "metadata": {
        "id": "dhPbk4Ze9Qmx"
      }
    },
    {
      "cell_type": "markdown",
      "source": [
        "![image.png](data:image/png;base64,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)"
      ],
      "metadata": {
        "id": "9MvSrxzz-Chu"
      }
    },
    {
      "cell_type": "code",
      "source": [
        "Returns = {3:[4,5,-1],1:[2,3,6,7,1],6:[2,-1,3,1]} "
      ],
      "metadata": {
        "id": "HA-R7YLs8pnv"
      },
      "execution_count": null,
      "outputs": []
    },
    {
      "cell_type": "code",
      "source": [
        "Returns = {}\n",
        "\n",
        "Returns[2]=[3]\n",
        "print(Returns)\n",
        "\n",
        "Returns[2].append(4)\n",
        "print(Returns)\n",
        "\n",
        "Returns[2].append(8)\n",
        "print(Returns)"
      ],
      "metadata": {
        "colab": {
          "base_uri": "https://localhost:8080/"
        },
        "id": "MllKjVOZ6A3_",
        "outputId": "49b06fb2-9a7c-46b3-f257-75c09132c49e"
      },
      "execution_count": null,
      "outputs": [
        {
          "output_type": "stream",
          "name": "stdout",
          "text": [
            "{2: [3]}\n",
            "{2: [3, 4]}\n",
            "{2: [3, 4, 8]}\n"
          ]
        }
      ]
    },
    {
      "cell_type": "code",
      "source": [
        "Returns[5]=[7]\n",
        "print(Returns)\n",
        "\n",
        "Returns[5].append(-4)\n",
        "print(Returns)\n",
        "\n",
        "Returns[5].append(2)\n",
        "print(Returns)"
      ],
      "metadata": {
        "colab": {
          "base_uri": "https://localhost:8080/"
        },
        "id": "zSRiknLJ8XQr",
        "outputId": "83dc493f-8daa-4df2-8b1b-5824f91c0825"
      },
      "execution_count": null,
      "outputs": [
        {
          "output_type": "stream",
          "name": "stdout",
          "text": [
            "{2: [3, 4, 8], 5: [7]}\n",
            "{2: [3, 4, 8], 5: [7, -4]}\n",
            "{2: [3, 4, 8], 5: [7, -4, 2]}\n"
          ]
        }
      ]
    },
    {
      "cell_type": "markdown",
      "source": [
        "Sprawdzenie czy dany klucz istnieje w słowniku:"
      ],
      "metadata": {
        "id": "7ysRTAcTHUgF"
      }
    },
    {
      "cell_type": "code",
      "source": [
        "state = 2\n",
        "if state in Returns.keys():\n",
        "    print(\"Stan był już odwiedzony!\")    \n",
        "else:\n",
        "    print(\"Stan nie był jeszcze odwiedzony!\")"
      ],
      "metadata": {
        "colab": {
          "base_uri": "https://localhost:8080/"
        },
        "id": "1z5hrRpQHYrD",
        "outputId": "68a8f596-5f10-4148-ae04-b11bb9114d10"
      },
      "execution_count": null,
      "outputs": [
        {
          "output_type": "stream",
          "name": "stdout",
          "text": [
            "Stan był już odwiedzony!\n"
          ]
        }
      ]
    },
    {
      "cell_type": "markdown",
      "source": [
        "Policzenie **średniej zwrotów** dla pewnego stanu"
      ],
      "metadata": {
        "id": "S_w4HA0t-Pyr"
      }
    },
    {
      "cell_type": "markdown",
      "source": [
        "![image.png](data:image/png;base64,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)"
      ],
      "metadata": {
        "id": "VU_rq_35-yBr"
      }
    },
    {
      "cell_type": "code",
      "source": [
        "np.mean(Returns[2])"
      ],
      "metadata": {
        "colab": {
          "base_uri": "https://localhost:8080/"
        },
        "id": "fWmFdEPv-UFg",
        "outputId": "8b34857a-d134-4a60-e4dc-20f50c0d19aa"
      },
      "execution_count": null,
      "outputs": [
        {
          "output_type": "execute_result",
          "data": {
            "text/plain": [
              "5.0"
            ]
          },
          "metadata": {},
          "execution_count": 14
        }
      ]
    },
    {
      "cell_type": "code",
      "source": [
        "V = np.zeros(env.nS)\n",
        "Returns = {}\n",
        "for u in range(10000):\n",
        "  y=1\n",
        "  policy = create_random_sto_policy(env)   \n",
        "  episode = generate_episode(env, policy) \n",
        "  #print(episode)\n",
        "  G = 0\n",
        "\n",
        "  for p in reversed(range(0, len(episode))):\n",
        "    state, A_t, R = episode[p]\n",
        "    #print(S_t,\" \",A_t,\" \",R_t)\n",
        "    G = y*G + R\n",
        "    \n",
        "  \n",
        "    if not state in [x[0] for x in episode[0:p]]:\n",
        "     #print(\"t=\",time_step,\" pierwsza wizyta w stanie: \",state)\n",
        "     if not state in Returns.keys():\n",
        "      Returns[state]=[G]      \n",
        "     else :\n",
        "      Returns[state].append(G)    \n",
        "      V[state] = np.average(Returns[state])\n",
        "  \n",
        "     \n",
        "\n",
        "\n",
        "\n"
      ],
      "metadata": {
        "id": "vlUMG4neBptz"
      },
      "execution_count": null,
      "outputs": []
    },
    {
      "cell_type": "code",
      "source": [
        "from plot_utils import plot_values\n",
        "plot_values(V)"
      ],
      "metadata": {
        "colab": {
          "base_uri": "https://localhost:8080/",
          "height": 390
        },
        "id": "NdcdFf-rRein",
        "outputId": "cbb9db0f-dc9a-4b57-e6cf-36fd34ce7c0a"
      },
      "execution_count": null,
      "outputs": [
        {
          "output_type": "display_data",
          "data": {
            "text/plain": [
              "<Figure size 432x432 with 1 Axes>"
            ],
            "image/png": "[encoded data removed]"
          },
          "metadata": {
            "needs_background": "light"
          }
        }
      ]
    }
  ]
}